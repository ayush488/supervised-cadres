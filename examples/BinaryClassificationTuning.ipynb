{
 "cells": [
  {
   "cell_type": "markdown",
   "metadata": {},
   "source": [
    "In this notebook, we're going to demonstrate hyperparameter tuning for binary classification SCM model selection on synthetic data."
   ]
  },
  {
   "cell_type": "code",
   "execution_count": 1,
   "metadata": {},
   "outputs": [],
   "source": [
    "import numpy as np\n",
    "import pandas as pd\n",
    "import sys\n",
    "import matplotlib.pyplot as plt\n",
    "import seaborn as sns\n",
    "\n",
    "sys.path.insert(0, '../cadreModels')\n",
    "\n",
    "from classificationBinary import binaryCadreModel\n",
    "\n",
    "from sklearn.model_selection import train_test_split, KFold\n",
    "from itertools import product\n",
    "from joblib import Parallel, delayed\n",
    "from sklearn.metrics import roc_auc_score, average_precision_score"
   ]
  },
  {
   "cell_type": "code",
   "execution_count": 2,
   "metadata": {},
   "outputs": [],
   "source": [
    "%load_ext autoreload\n",
    "%autoreload 2"
   ]
  },
  {
   "cell_type": "code",
   "execution_count": 3,
   "metadata": {},
   "outputs": [],
   "source": [
    "sns.set_style('darkgrid')"
   ]
  },
  {
   "cell_type": "code",
   "execution_count": 4,
   "metadata": {},
   "outputs": [],
   "source": [
    "data = pd.read_csv('https://raw.githubusercontent.com/HealthINCITE/cadre/master/data/df_moderate.csv')\n",
    "features = data.columns[data.columns.str.contains('cad|dv') & (data.columns != 'cadre')]"
   ]
  },
  {
   "cell_type": "code",
   "execution_count": 5,
   "metadata": {
    "scrolled": true
   },
   "outputs": [
    {
     "data": {
      "text/html": [
       "<div>\n",
       "<style scoped>\n",
       "    .dataframe tbody tr th:only-of-type {\n",
       "        vertical-align: middle;\n",
       "    }\n",
       "\n",
       "    .dataframe tbody tr th {\n",
       "        vertical-align: top;\n",
       "    }\n",
       "\n",
       "    .dataframe thead th {\n",
       "        text-align: right;\n",
       "    }\n",
       "</style>\n",
       "<table border=\"1\" class=\"dataframe\">\n",
       "  <thead>\n",
       "    <tr style=\"text-align: right;\">\n",
       "      <th></th>\n",
       "      <th>cad0</th>\n",
       "      <th>cad1</th>\n",
       "      <th>cad2</th>\n",
       "      <th>cad3</th>\n",
       "      <th>cad4</th>\n",
       "      <th>cad5</th>\n",
       "      <th>cad6</th>\n",
       "      <th>cad7</th>\n",
       "      <th>cad8</th>\n",
       "      <th>cad9</th>\n",
       "      <th>cadre</th>\n",
       "      <th>dv0</th>\n",
       "      <th>dv1</th>\n",
       "      <th>dv2</th>\n",
       "      <th>dv3</th>\n",
       "      <th>dv4</th>\n",
       "      <th>target</th>\n",
       "    </tr>\n",
       "  </thead>\n",
       "  <tbody>\n",
       "    <tr>\n",
       "      <th>0</th>\n",
       "      <td>0.191442</td>\n",
       "      <td>2.266938</td>\n",
       "      <td>-1.571560</td>\n",
       "      <td>-1.000071</td>\n",
       "      <td>2.575162</td>\n",
       "      <td>0.809672</td>\n",
       "      <td>-0.158311</td>\n",
       "      <td>-1.647344</td>\n",
       "      <td>0.651466</td>\n",
       "      <td>-1.060883</td>\n",
       "      <td>0</td>\n",
       "      <td>4.784785</td>\n",
       "      <td>5.177201</td>\n",
       "      <td>-4.189262</td>\n",
       "      <td>5.070376</td>\n",
       "      <td>-4.898889</td>\n",
       "      <td>1</td>\n",
       "    </tr>\n",
       "    <tr>\n",
       "      <th>1</th>\n",
       "      <td>-1.174611</td>\n",
       "      <td>-0.395598</td>\n",
       "      <td>-0.436501</td>\n",
       "      <td>-0.606625</td>\n",
       "      <td>0.391813</td>\n",
       "      <td>0.092166</td>\n",
       "      <td>-0.008130</td>\n",
       "      <td>1.103397</td>\n",
       "      <td>0.112093</td>\n",
       "      <td>1.117736</td>\n",
       "      <td>0</td>\n",
       "      <td>-6.783252</td>\n",
       "      <td>-4.636362</td>\n",
       "      <td>4.250647</td>\n",
       "      <td>4.624133</td>\n",
       "      <td>-5.060853</td>\n",
       "      <td>0</td>\n",
       "    </tr>\n",
       "    <tr>\n",
       "      <th>2</th>\n",
       "      <td>-0.415574</td>\n",
       "      <td>0.968346</td>\n",
       "      <td>0.047912</td>\n",
       "      <td>-1.216676</td>\n",
       "      <td>0.695269</td>\n",
       "      <td>-0.188202</td>\n",
       "      <td>-0.665783</td>\n",
       "      <td>2.152114</td>\n",
       "      <td>0.284394</td>\n",
       "      <td>2.169629</td>\n",
       "      <td>0</td>\n",
       "      <td>-5.179748</td>\n",
       "      <td>-4.222403</td>\n",
       "      <td>-3.925779</td>\n",
       "      <td>5.182969</td>\n",
       "      <td>-5.919294</td>\n",
       "      <td>1</td>\n",
       "    </tr>\n",
       "    <tr>\n",
       "      <th>3</th>\n",
       "      <td>-0.785389</td>\n",
       "      <td>0.113480</td>\n",
       "      <td>-0.186819</td>\n",
       "      <td>-0.233704</td>\n",
       "      <td>0.014695</td>\n",
       "      <td>0.727447</td>\n",
       "      <td>0.543753</td>\n",
       "      <td>2.427905</td>\n",
       "      <td>-0.961922</td>\n",
       "      <td>-0.103388</td>\n",
       "      <td>0</td>\n",
       "      <td>6.143124</td>\n",
       "      <td>4.980376</td>\n",
       "      <td>-4.985737</td>\n",
       "      <td>5.742185</td>\n",
       "      <td>-4.723161</td>\n",
       "      <td>1</td>\n",
       "    </tr>\n",
       "    <tr>\n",
       "      <th>4</th>\n",
       "      <td>0.377902</td>\n",
       "      <td>1.359901</td>\n",
       "      <td>0.563633</td>\n",
       "      <td>0.511998</td>\n",
       "      <td>0.411057</td>\n",
       "      <td>-0.110674</td>\n",
       "      <td>0.204616</td>\n",
       "      <td>-0.375118</td>\n",
       "      <td>0.165277</td>\n",
       "      <td>-0.627823</td>\n",
       "      <td>0</td>\n",
       "      <td>3.798002</td>\n",
       "      <td>6.331110</td>\n",
       "      <td>-5.460732</td>\n",
       "      <td>5.288602</td>\n",
       "      <td>-4.742962</td>\n",
       "      <td>1</td>\n",
       "    </tr>\n",
       "  </tbody>\n",
       "</table>\n",
       "</div>"
      ],
      "text/plain": [
       "       cad0      cad1      cad2      cad3      cad4      cad5      cad6  \\\n",
       "0  0.191442  2.266938 -1.571560 -1.000071  2.575162  0.809672 -0.158311   \n",
       "1 -1.174611 -0.395598 -0.436501 -0.606625  0.391813  0.092166 -0.008130   \n",
       "2 -0.415574  0.968346  0.047912 -1.216676  0.695269 -0.188202 -0.665783   \n",
       "3 -0.785389  0.113480 -0.186819 -0.233704  0.014695  0.727447  0.543753   \n",
       "4  0.377902  1.359901  0.563633  0.511998  0.411057 -0.110674  0.204616   \n",
       "\n",
       "       cad7      cad8      cad9  cadre       dv0       dv1       dv2  \\\n",
       "0 -1.647344  0.651466 -1.060883      0  4.784785  5.177201 -4.189262   \n",
       "1  1.103397  0.112093  1.117736      0 -6.783252 -4.636362  4.250647   \n",
       "2  2.152114  0.284394  2.169629      0 -5.179748 -4.222403 -3.925779   \n",
       "3  2.427905 -0.961922 -0.103388      0  6.143124  4.980376 -4.985737   \n",
       "4 -0.375118  0.165277 -0.627823      0  3.798002  6.331110 -5.460732   \n",
       "\n",
       "        dv3       dv4  target  \n",
       "0  5.070376 -4.898889       1  \n",
       "1  4.624133 -5.060853       0  \n",
       "2  5.182969 -5.919294       1  \n",
       "3  5.742185 -4.723161       1  \n",
       "4  5.288602 -4.742962       1  "
      ]
     },
     "execution_count": 5,
     "metadata": {},
     "output_type": "execute_result"
    }
   ],
   "source": [
    "data.head()"
   ]
  },
  {
   "cell_type": "code",
   "execution_count": 6,
   "metadata": {},
   "outputs": [
    {
     "data": {
      "text/plain": [
       "Index(['cad0', 'cad1', 'cad2', 'cad3', 'cad4', 'cad5', 'cad6', 'cad7', 'cad8',\n",
       "       'cad9', 'dv0', 'dv1', 'dv2', 'dv3', 'dv4'],\n",
       "      dtype='object')"
      ]
     },
     "execution_count": 6,
     "metadata": {},
     "output_type": "execute_result"
    }
   ],
   "source": [
    "features"
   ]
  },
  {
   "cell_type": "markdown",
   "metadata": {},
   "source": [
    "Overall training-testing split."
   ]
  },
  {
   "cell_type": "code",
   "execution_count": 7,
   "metadata": {
    "scrolled": true
   },
   "outputs": [],
   "source": [
    "D_tr, D_te = train_test_split(data, test_size=0.2, random_state=313616)"
   ]
  },
  {
   "cell_type": "markdown",
   "metadata": {},
   "source": [
    "Functions for standardization"
   ]
  },
  {
   "cell_type": "code",
   "execution_count": 8,
   "metadata": {},
   "outputs": [],
   "source": [
    "def standardize_col(col, mean, std):\n",
    "    return (col - mean) / std"
   ]
  },
  {
   "cell_type": "code",
   "execution_count": 9,
   "metadata": {},
   "outputs": [],
   "source": [
    "def standardizer(d_tr, d_va, features, d_te=None):\n",
    "    d_tr_scale = d_tr.copy()\n",
    "    d_va_scale = d_va.copy()\n",
    "    if d_te is not None:\n",
    "        d_te_scale = d_te.copy()\n",
    "    for feature in features:\n",
    "        f_mean = d_tr[feature].mean()\n",
    "        f_std = d_tr[feature].std()\n",
    "        \n",
    "        d_tr_scale[feature] = standardize_col(d_tr_scale[feature], f_mean, f_std)\n",
    "        d_va_scale[feature] = standardize_col(d_va_scale[feature], f_mean, f_std)\n",
    "        if d_te is not None:\n",
    "            d_te_scale[feature] = standardize_col(d_te_scale[feature], f_mean, f_std)\n",
    "        \n",
    "    if d_te is not None:\n",
    "        return d_tr_scale, d_va_scale, d_te_scale\n",
    "    else:\n",
    "        return d_tr_scale, d_va_scale"
   ]
  },
  {
   "cell_type": "markdown",
   "metadata": {},
   "source": [
    "These are the possible hyperparameter configurations we are going to search over."
   ]
  },
  {
   "cell_type": "code",
   "execution_count": 10,
   "metadata": {},
   "outputs": [],
   "source": [
    "l_ds = np.array([0.1, 0.01, 0.001])\n",
    "l_Ws = np.array([0.1, 0.01, 0.001])\n",
    "Ms = np.array([2,3,4,5,6])\n",
    "n_folds = 5"
   ]
  },
  {
   "cell_type": "markdown",
   "metadata": {},
   "source": [
    "A `binaryCadreModel`'s initialization function takes the following arguments and default values:\n",
    "\n",
    "* `M=2` -- number of cadres in model\n",
    "* `gamma=10.` -- cadre-assignment sharpness\n",
    "* `lambda_d=0.01` -- regularization strength for cadre-assignment weight parameter `d`\n",
    "* `lambda_W=0.01` -- regularization strength for classification-weight parameter `W`\n",
    "* `alpha_d=0.9` -- elastic net mixing weight for cadre-assignment weight parameter `d`\n",
    "* `alpha_W=0.9` -- elastic net mixing with for classification-weight parameter `W`\n",
    "* `Tmax=10000` -- maximum number of SGD steps to take\n",
    "* `record=100` -- during training, how often goodness-of-fit metrics should be evaluated on the data\n",
    "* `eta=2e-3` -- initial stepsize / learning rate\n",
    "* `Nba=64` -- minibatch size\n",
    "* `eps=1e-3` -- convergence tolerance\n",
    "* `termination_metric='ROC_AUC'` -- training terminated if the difference between the most recent `termination_metric` value and the second most recent `termination_metric` is less than `eps`"
   ]
  },
  {
   "cell_type": "markdown",
   "metadata": {},
   "source": [
    "Note that `Tmax`'s default value is quite large. The number of SGD steps needed for training tends to vary wildly by dataset. Sometimes, only a few hundred are needed. Because of the convergence tolerance `eps`, if you specify too large a `Tmax`, the training will stop after progress slows."
   ]
  },
  {
   "cell_type": "markdown",
   "metadata": {},
   "source": [
    "Once you initialize a `binaryCadreModel`, you apply the `fit` method to train it. This method takes the following arguments and default values:\n",
    "\n",
    "* `data` -- `pd.DataFrame` of training data\n",
    "* `targetCol` -- string column-name of target feature in `data`\n",
    "* `cadreFts=None` -- `pd.Index` of column-names used for cadre-assignment\n",
    "* `predictFts=None` -- `pd.Index` of column-names used for target-prediction\n",
    "* `dataVa=None` -- optional `pd.DataFrame` of validation data \n",
    "* `seed=16162` -- seed for parameter initialization and minibatch generation\n",
    "* `store=False` -- whether or not copies `data` and `dataVa` should be added as attributes of the `binaryCadreModel`\n",
    "* `progress=False` -- whether or not goodness-of-fit metrics should be printed during training\n",
    "* `inits=None` -- a `dict` with keys from the subset of `{'C', 'd', 'W', 'W0'}` and entries as `numpy.array` used as specific initialization values for the matching SCM parameter\n",
    "\n",
    "For `inits`, if, e.g., `inits={'d': np.array([1,2])}`, then, in the SCM learning problem, the parameter `d` will be initialized at the value of `np.array([1,2])` instead of to random values. You can use the `inits` argument to implement specific initialization strategies, via, e.g., $K$-means + logistic regression."
   ]
  },
  {
   "cell_type": "markdown",
   "metadata": {},
   "source": [
    "This function is applied in parallel for cross-validation model training.\n",
    "\n",
    "Arguments (in relation to the initialization of a `binaryCadreModel` and its `fit` method:\n",
    "* `d_tr` -- maps to `data\n",
    "* `d_va` -- maps to `dataVa`\n",
    "* `d_te` -- `pd.DataFrame` of testing data\n",
    "* `M` -- maps to `M`\n",
    "* `l_W` -- maps to `lambda_W`\n",
    "* `l_d` -- maps to `lambda_d`\n",
    "* `cadre_fts` -- maps to `cadreFts`\n",
    "* `predict_fts` -- maps to `predictFts`\n",
    "* `Tmax` -- maps to `Tmax`\n",
    "* `record` -- maps to `record"
   ]
  },
  {
   "cell_type": "markdown",
   "metadata": {},
   "source": [
    "The `scmCrossVal` function returns the trained SCM, as well as `pd.DataFrame`s giving goodness-of-fit metrics on the validaiton and testing data."
   ]
  },
  {
   "cell_type": "code",
   "execution_count": 11,
   "metadata": {},
   "outputs": [],
   "source": [
    "def scmCrossval(d_tr, d_va, d_te, M, l_W, l_d, cadre_fts, predict_fts, Tmax, record):\n",
    "    mod = binaryCadreModel(\n",
    "                Tmax=Tmax, record=record,\n",
    "                M=M, alpha_d=0.99, alpha_W=0.99, lambda_d=l_d, lambda_W=l_W, gamma=10.)\n",
    "    features = cadre_fts.union(predict_fts)\n",
    "    ## standardize data\n",
    "    d_tr_sc, d_va_sc, d_te_sc = standardizer(d_tr, d_va, features, d_te)\n",
    "        \n",
    "    mod.fit(d_tr_sc, 'target', cadre_fts, predict_fts, d_va_sc, progress=False)\n",
    "    \n",
    "    ## evaluate on validation and test sets\n",
    "    err_va = mod.scoreMetrics(d_va_sc)\n",
    "    err_te = mod.scoreMetrics(d_te_sc)\n",
    "    \n",
    "    ## return everything as a list\n",
    "    return mod, err_va, err_te"
   ]
  },
  {
   "cell_type": "markdown",
   "metadata": {},
   "source": [
    "Other attributes of the `binaryCadreModel` include:\n",
    "\n",
    "* `W` -- matrix of cadre-specific classification weights\n",
    "* `W0` -- vector of cadre-specific classification biases\n",
    "* `C` -- matrix of cadre centers\n",
    "* `d` -- vector of cadre-assignments weights\n",
    "* `metrics` -- a `dict` with `'training'` and `'validation'` as keys. Each item is a `pd.DataFrame` of goodness-of-fit metrics evaluated during training. Metrics include loss, accuracy, ROC AUC, and precision-recall (PR) AUC\n",
    "* `time` -- list of computer-time values it took for each SGD step to be evaluated\n",
    "* `proportions` -- during training, the proportion of the training data assigned to each cadre is recorded. This is a `pd.DataFrame` of those proportions, which lets you see if cadre assignments have converged to a stable distribution."
   ]
  },
  {
   "cell_type": "code",
   "execution_count": 12,
   "metadata": {},
   "outputs": [
    {
     "name": "stderr",
     "output_type": "stream",
     "text": [
      "[Parallel(n_jobs=24)]: Using backend ThreadingBackend with 24 concurrent workers.\n",
      "[Parallel(n_jobs=24)]: Done   1 tasks      | elapsed:  1.9min\n",
      "[Parallel(n_jobs=24)]: Done   2 tasks      | elapsed:  2.3min\n",
      "[Parallel(n_jobs=24)]: Done   3 tasks      | elapsed:  2.5min\n",
      "[Parallel(n_jobs=24)]: Done   4 tasks      | elapsed:  2.5min\n",
      "[Parallel(n_jobs=24)]: Done   5 tasks      | elapsed:  2.5min\n",
      "[Parallel(n_jobs=24)]: Done   6 tasks      | elapsed:  2.5min\n",
      "[Parallel(n_jobs=24)]: Done   7 tasks      | elapsed:  2.5min\n",
      "[Parallel(n_jobs=24)]: Done   8 tasks      | elapsed:  2.6min\n",
      "[Parallel(n_jobs=24)]: Done   9 tasks      | elapsed:  2.6min\n",
      "[Parallel(n_jobs=24)]: Done  10 tasks      | elapsed:  2.6min\n",
      "[Parallel(n_jobs=24)]: Done  11 tasks      | elapsed:  2.6min\n",
      "[Parallel(n_jobs=24)]: Done  12 tasks      | elapsed:  2.6min\n",
      "[Parallel(n_jobs=24)]: Done  13 tasks      | elapsed:  2.6min\n",
      "[Parallel(n_jobs=24)]: Done  14 tasks      | elapsed:  2.6min\n",
      "[Parallel(n_jobs=24)]: Done  15 tasks      | elapsed:  2.6min\n",
      "[Parallel(n_jobs=24)]: Done  16 tasks      | elapsed:  2.6min\n",
      "[Parallel(n_jobs=24)]: Done  17 tasks      | elapsed:  2.6min\n",
      "[Parallel(n_jobs=24)]: Done  18 tasks      | elapsed:  2.6min\n",
      "[Parallel(n_jobs=24)]: Done  19 tasks      | elapsed:  2.6min\n",
      "[Parallel(n_jobs=24)]: Done  20 tasks      | elapsed:  2.6min\n",
      "[Parallel(n_jobs=24)]: Done  21 tasks      | elapsed:  2.7min\n",
      "[Parallel(n_jobs=24)]: Done  22 tasks      | elapsed:  2.7min\n",
      "[Parallel(n_jobs=24)]: Done  23 tasks      | elapsed:  2.7min\n",
      "[Parallel(n_jobs=24)]: Done  24 tasks      | elapsed:  2.7min\n",
      "[Parallel(n_jobs=24)]: Done  25 tasks      | elapsed:  4.4min\n",
      "[Parallel(n_jobs=24)]: Done  26 tasks      | elapsed:  4.7min\n",
      "[Parallel(n_jobs=24)]: Done  27 tasks      | elapsed:  4.8min\n",
      "[Parallel(n_jobs=24)]: Done  28 tasks      | elapsed:  5.0min\n",
      "[Parallel(n_jobs=24)]: Done  29 tasks      | elapsed:  5.1min\n",
      "[Parallel(n_jobs=24)]: Done  30 tasks      | elapsed:  5.1min\n",
      "[Parallel(n_jobs=24)]: Done  31 tasks      | elapsed:  5.1min\n",
      "[Parallel(n_jobs=24)]: Done  32 tasks      | elapsed:  5.1min\n",
      "[Parallel(n_jobs=24)]: Done  33 tasks      | elapsed:  5.1min\n",
      "[Parallel(n_jobs=24)]: Done  34 tasks      | elapsed:  5.1min\n",
      "[Parallel(n_jobs=24)]: Done  35 tasks      | elapsed:  5.1min\n",
      "[Parallel(n_jobs=24)]: Done  36 tasks      | elapsed:  5.1min\n",
      "[Parallel(n_jobs=24)]: Done  37 tasks      | elapsed:  5.2min\n",
      "[Parallel(n_jobs=24)]: Done  38 tasks      | elapsed:  5.2min\n",
      "[Parallel(n_jobs=24)]: Done  39 tasks      | elapsed:  5.2min\n",
      "[Parallel(n_jobs=24)]: Done  40 tasks      | elapsed:  5.2min\n",
      "[Parallel(n_jobs=24)]: Done  41 tasks      | elapsed:  5.2min\n",
      "[Parallel(n_jobs=24)]: Done  42 tasks      | elapsed:  5.2min\n",
      "[Parallel(n_jobs=24)]: Done  43 tasks      | elapsed:  5.2min\n",
      "[Parallel(n_jobs=24)]: Done  44 tasks      | elapsed:  5.3min\n",
      "[Parallel(n_jobs=24)]: Done  45 tasks      | elapsed:  5.3min\n",
      "[Parallel(n_jobs=24)]: Done  46 tasks      | elapsed:  5.3min\n",
      "[Parallel(n_jobs=24)]: Done  47 tasks      | elapsed:  5.3min\n",
      "[Parallel(n_jobs=24)]: Done  48 tasks      | elapsed:  5.3min\n",
      "[Parallel(n_jobs=24)]: Done  49 tasks      | elapsed:  7.1min\n",
      "[Parallel(n_jobs=24)]: Done  50 tasks      | elapsed:  7.2min\n",
      "[Parallel(n_jobs=24)]: Done  51 tasks      | elapsed:  7.2min\n",
      "[Parallel(n_jobs=24)]: Done  52 tasks      | elapsed:  7.7min\n",
      "[Parallel(n_jobs=24)]: Done  53 tasks      | elapsed:  7.7min\n",
      "[Parallel(n_jobs=24)]: Done  54 tasks      | elapsed:  7.7min\n",
      "[Parallel(n_jobs=24)]: Done  55 tasks      | elapsed:  7.7min\n",
      "[Parallel(n_jobs=24)]: Done  56 tasks      | elapsed:  7.7min\n",
      "[Parallel(n_jobs=24)]: Done  57 tasks      | elapsed:  7.8min\n",
      "[Parallel(n_jobs=24)]: Done  58 tasks      | elapsed:  7.8min\n",
      "[Parallel(n_jobs=24)]: Done  59 tasks      | elapsed:  7.8min\n",
      "[Parallel(n_jobs=24)]: Done  60 tasks      | elapsed:  7.8min\n",
      "[Parallel(n_jobs=24)]: Done  61 tasks      | elapsed:  7.8min\n",
      "[Parallel(n_jobs=24)]: Done  62 tasks      | elapsed:  7.8min\n",
      "[Parallel(n_jobs=24)]: Done  63 tasks      | elapsed:  7.8min\n",
      "[Parallel(n_jobs=24)]: Done  64 tasks      | elapsed:  7.8min\n",
      "[Parallel(n_jobs=24)]: Done  65 tasks      | elapsed:  7.8min\n",
      "[Parallel(n_jobs=24)]: Done  66 tasks      | elapsed:  7.9min\n",
      "[Parallel(n_jobs=24)]: Done  67 tasks      | elapsed:  7.9min\n",
      "[Parallel(n_jobs=24)]: Done  68 tasks      | elapsed:  7.9min\n",
      "[Parallel(n_jobs=24)]: Done  69 tasks      | elapsed:  8.0min\n",
      "[Parallel(n_jobs=24)]: Done  70 tasks      | elapsed:  8.0min\n",
      "[Parallel(n_jobs=24)]: Done  71 tasks      | elapsed:  8.0min\n",
      "[Parallel(n_jobs=24)]: Done  72 tasks      | elapsed:  8.0min\n",
      "[Parallel(n_jobs=24)]: Done  73 tasks      | elapsed:  9.7min\n",
      "[Parallel(n_jobs=24)]: Done  74 tasks      | elapsed:  9.9min\n",
      "[Parallel(n_jobs=24)]: Done  75 tasks      | elapsed:  9.9min\n",
      "[Parallel(n_jobs=24)]: Done  76 tasks      | elapsed: 10.3min\n",
      "[Parallel(n_jobs=24)]: Done  77 tasks      | elapsed: 10.3min\n",
      "[Parallel(n_jobs=24)]: Done  78 tasks      | elapsed: 10.3min\n",
      "[Parallel(n_jobs=24)]: Done  79 tasks      | elapsed: 10.4min\n",
      "[Parallel(n_jobs=24)]: Done  80 tasks      | elapsed: 10.4min\n",
      "[Parallel(n_jobs=24)]: Done  81 tasks      | elapsed: 10.4min\n",
      "[Parallel(n_jobs=24)]: Done  82 tasks      | elapsed: 10.4min\n",
      "[Parallel(n_jobs=24)]: Done  83 tasks      | elapsed: 10.4min\n",
      "[Parallel(n_jobs=24)]: Done  84 tasks      | elapsed: 10.5min\n",
      "[Parallel(n_jobs=24)]: Done  85 tasks      | elapsed: 10.5min\n",
      "[Parallel(n_jobs=24)]: Done  86 tasks      | elapsed: 10.5min\n",
      "[Parallel(n_jobs=24)]: Done  87 tasks      | elapsed: 10.5min\n",
      "[Parallel(n_jobs=24)]: Done  88 tasks      | elapsed: 10.5min\n",
      "[Parallel(n_jobs=24)]: Done  89 tasks      | elapsed: 10.5min\n",
      "[Parallel(n_jobs=24)]: Done  90 tasks      | elapsed: 10.5min\n",
      "[Parallel(n_jobs=24)]: Done  91 tasks      | elapsed: 10.5min\n",
      "[Parallel(n_jobs=24)]: Done  92 tasks      | elapsed: 10.5min\n",
      "[Parallel(n_jobs=24)]: Done  93 tasks      | elapsed: 10.6min\n",
      "[Parallel(n_jobs=24)]: Done  94 tasks      | elapsed: 10.6min\n",
      "[Parallel(n_jobs=24)]: Done  95 tasks      | elapsed: 10.6min\n",
      "[Parallel(n_jobs=24)]: Done  96 tasks      | elapsed: 10.7min\n",
      "[Parallel(n_jobs=24)]: Done  97 tasks      | elapsed: 12.3min\n",
      "[Parallel(n_jobs=24)]: Done  98 tasks      | elapsed: 12.5min\n",
      "[Parallel(n_jobs=24)]: Done  99 tasks      | elapsed: 12.5min\n",
      "[Parallel(n_jobs=24)]: Done 100 tasks      | elapsed: 12.6min\n",
      "[Parallel(n_jobs=24)]: Done 101 tasks      | elapsed: 12.8min\n",
      "[Parallel(n_jobs=24)]: Done 102 tasks      | elapsed: 12.9min\n",
      "[Parallel(n_jobs=24)]: Done 103 tasks      | elapsed: 13.0min\n",
      "[Parallel(n_jobs=24)]: Done 104 tasks      | elapsed: 13.0min\n",
      "[Parallel(n_jobs=24)]: Done 105 tasks      | elapsed: 13.0min\n",
      "[Parallel(n_jobs=24)]: Done 106 tasks      | elapsed: 13.1min\n",
      "[Parallel(n_jobs=24)]: Done 107 tasks      | elapsed: 13.1min\n",
      "[Parallel(n_jobs=24)]: Done 108 tasks      | elapsed: 13.1min\n",
      "[Parallel(n_jobs=24)]: Done 109 tasks      | elapsed: 13.1min\n",
      "[Parallel(n_jobs=24)]: Done 110 tasks      | elapsed: 13.1min\n",
      "[Parallel(n_jobs=24)]: Done 111 tasks      | elapsed: 13.1min\n",
      "[Parallel(n_jobs=24)]: Done 112 tasks      | elapsed: 13.2min\n",
      "[Parallel(n_jobs=24)]: Done 113 tasks      | elapsed: 13.2min\n",
      "[Parallel(n_jobs=24)]: Done 114 tasks      | elapsed: 13.2min\n",
      "[Parallel(n_jobs=24)]: Done 115 tasks      | elapsed: 13.2min\n",
      "[Parallel(n_jobs=24)]: Done 116 tasks      | elapsed: 13.2min\n",
      "[Parallel(n_jobs=24)]: Done 117 tasks      | elapsed: 13.2min\n",
      "[Parallel(n_jobs=24)]: Done 118 tasks      | elapsed: 13.3min\n",
      "[Parallel(n_jobs=24)]: Done 119 tasks      | elapsed: 13.3min\n",
      "[Parallel(n_jobs=24)]: Done 120 tasks      | elapsed: 13.3min\n",
      "[Parallel(n_jobs=24)]: Done 121 tasks      | elapsed: 15.0min\n",
      "[Parallel(n_jobs=24)]: Done 122 tasks      | elapsed: 15.1min\n",
      "[Parallel(n_jobs=24)]: Done 123 tasks      | elapsed: 15.1min\n",
      "[Parallel(n_jobs=24)]: Done 124 tasks      | elapsed: 15.2min\n",
      "[Parallel(n_jobs=24)]: Done 125 tasks      | elapsed: 15.4min\n",
      "[Parallel(n_jobs=24)]: Done 126 tasks      | elapsed: 15.4min\n",
      "[Parallel(n_jobs=24)]: Done 127 tasks      | elapsed: 15.6min\n",
      "[Parallel(n_jobs=24)]: Done 128 tasks      | elapsed: 15.6min\n",
      "[Parallel(n_jobs=24)]: Done 129 tasks      | elapsed: 15.7min\n",
      "[Parallel(n_jobs=24)]: Done 130 tasks      | elapsed: 15.7min\n",
      "[Parallel(n_jobs=24)]: Done 131 tasks      | elapsed: 15.7min\n"
     ]
    },
    {
     "name": "stderr",
     "output_type": "stream",
     "text": [
      "[Parallel(n_jobs=24)]: Done 132 tasks      | elapsed: 15.7min\n",
      "[Parallel(n_jobs=24)]: Done 133 tasks      | elapsed: 15.7min\n",
      "[Parallel(n_jobs=24)]: Done 134 tasks      | elapsed: 15.7min\n",
      "[Parallel(n_jobs=24)]: Done 135 tasks      | elapsed: 15.7min\n",
      "[Parallel(n_jobs=24)]: Done 136 tasks      | elapsed: 15.7min\n",
      "[Parallel(n_jobs=24)]: Done 137 tasks      | elapsed: 15.8min\n",
      "[Parallel(n_jobs=24)]: Done 138 tasks      | elapsed: 15.8min\n",
      "[Parallel(n_jobs=24)]: Done 139 tasks      | elapsed: 15.9min\n",
      "[Parallel(n_jobs=24)]: Done 140 tasks      | elapsed: 15.9min\n",
      "[Parallel(n_jobs=24)]: Done 141 tasks      | elapsed: 15.9min\n",
      "[Parallel(n_jobs=24)]: Done 142 tasks      | elapsed: 15.9min\n",
      "[Parallel(n_jobs=24)]: Done 143 tasks      | elapsed: 16.0min\n",
      "[Parallel(n_jobs=24)]: Done 144 tasks      | elapsed: 16.0min\n",
      "[Parallel(n_jobs=24)]: Done 145 tasks      | elapsed: 17.6min\n",
      "[Parallel(n_jobs=24)]: Done 146 tasks      | elapsed: 17.7min\n",
      "[Parallel(n_jobs=24)]: Done 147 tasks      | elapsed: 17.8min\n",
      "[Parallel(n_jobs=24)]: Done 148 tasks      | elapsed: 17.9min\n",
      "[Parallel(n_jobs=24)]: Done 149 tasks      | elapsed: 17.9min\n",
      "[Parallel(n_jobs=24)]: Done 150 tasks      | elapsed: 18.1min\n",
      "[Parallel(n_jobs=24)]: Done 151 tasks      | elapsed: 18.2min\n",
      "[Parallel(n_jobs=24)]: Done 152 tasks      | elapsed: 18.3min\n",
      "[Parallel(n_jobs=24)]: Done 153 tasks      | elapsed: 18.3min\n",
      "[Parallel(n_jobs=24)]: Done 154 tasks      | elapsed: 18.3min\n",
      "[Parallel(n_jobs=24)]: Done 155 tasks      | elapsed: 18.3min\n",
      "[Parallel(n_jobs=24)]: Done 156 tasks      | elapsed: 18.3min\n",
      "[Parallel(n_jobs=24)]: Done 157 tasks      | elapsed: 18.3min\n",
      "[Parallel(n_jobs=24)]: Done 158 tasks      | elapsed: 18.4min\n",
      "[Parallel(n_jobs=24)]: Done 159 tasks      | elapsed: 18.4min\n",
      "[Parallel(n_jobs=24)]: Done 160 tasks      | elapsed: 18.4min\n",
      "[Parallel(n_jobs=24)]: Done 161 tasks      | elapsed: 18.4min\n",
      "[Parallel(n_jobs=24)]: Done 162 tasks      | elapsed: 18.5min\n",
      "[Parallel(n_jobs=24)]: Done 163 tasks      | elapsed: 18.5min\n",
      "[Parallel(n_jobs=24)]: Done 164 tasks      | elapsed: 18.5min\n",
      "[Parallel(n_jobs=24)]: Done 165 tasks      | elapsed: 18.6min\n",
      "[Parallel(n_jobs=24)]: Done 166 tasks      | elapsed: 18.6min\n",
      "[Parallel(n_jobs=24)]: Done 167 tasks      | elapsed: 18.6min\n",
      "[Parallel(n_jobs=24)]: Done 168 tasks      | elapsed: 18.7min\n",
      "[Parallel(n_jobs=24)]: Done 169 tasks      | elapsed: 20.3min\n",
      "[Parallel(n_jobs=24)]: Done 170 tasks      | elapsed: 20.3min\n",
      "[Parallel(n_jobs=24)]: Done 171 tasks      | elapsed: 20.5min\n",
      "[Parallel(n_jobs=24)]: Done 172 tasks      | elapsed: 20.5min\n",
      "[Parallel(n_jobs=24)]: Done 173 tasks      | elapsed: 20.6min\n",
      "[Parallel(n_jobs=24)]: Done 174 tasks      | elapsed: 20.7min\n",
      "[Parallel(n_jobs=24)]: Done 175 tasks      | elapsed: 20.9min\n",
      "[Parallel(n_jobs=24)]: Done 176 tasks      | elapsed: 21.0min\n",
      "[Parallel(n_jobs=24)]: Done 177 tasks      | elapsed: 21.0min\n",
      "[Parallel(n_jobs=24)]: Done 178 tasks      | elapsed: 21.0min\n",
      "[Parallel(n_jobs=24)]: Done 199 out of 225 | elapsed: 23.4min remaining:  3.1min\n",
      "[Parallel(n_jobs=24)]: Done 220 out of 225 | elapsed: 24.6min remaining:   33.5s\n",
      "[Parallel(n_jobs=24)]: Done 225 out of 225 | elapsed: 24.8min finished\n"
     ]
    }
   ],
   "source": [
    "kf = KFold(n_splits=n_folds, random_state=1414)\n",
    "Tmax = 2401\n",
    "record = 200\n",
    "\n",
    "n_jobs = np.minimum(24, n_folds * Ms.shape[0] * l_ds.shape[0] * l_Ws.shape[0])\n",
    "\n",
    "results = (Parallel(n_jobs=n_jobs, backend='threading', verbose=11)(delayed(scmCrossval)\n",
    "                    (D_tr.iloc[tr], D_tr.iloc[va], D_te, M, l_W, l_d, features, features, Tmax, record) \n",
    "                    for (M, l_d, l_W, (fold, (tr, va))) in product(Ms, l_ds, l_Ws, enumerate(kf.split(D_tr)))))"
   ]
  },
  {
   "cell_type": "markdown",
   "metadata": {},
   "source": [
    "This function lets us organize the cross-validation accuracy of each hyperparameter configuration."
   ]
  },
  {
   "cell_type": "code",
   "execution_count": 13,
   "metadata": {},
   "outputs": [],
   "source": [
    "def extract_scores(results):\n",
    "    results_va, results_te = [], []\n",
    "    for model, scores_va, scores_te in results:\n",
    "        results_va.append(scores_va)\n",
    "        results_va[-1] = results_va[-1].assign(M=model.M, lambda_d=model.lambda_d, lambda_W=model.lambda_W)\n",
    "        \n",
    "        results_te.append(scores_te)\n",
    "        results_te[-1] = results_te[-1].assign(M=model.M, lambda_d=model.lambda_d, lambda_W=model.lambda_W)\n",
    "    results_va = pd.concat(results_va).reset_index(drop=True)\n",
    "    results_te = pd.concat(results_te).reset_index(drop=True)\n",
    "    print(results_va.head())\n",
    "    print(results_te.head())\n",
    "    return results_va, results_te"
   ]
  },
  {
   "cell_type": "code",
   "execution_count": 14,
   "metadata": {
    "scrolled": true
   },
   "outputs": [
    {
     "name": "stdout",
     "output_type": "stream",
     "text": [
      "     PR_AUC   ROC_AUC  accuracy      loss  M  lambda_d  lambda_W\n",
      "0  0.750712  0.788922   0.71875  1.402653  2       0.1       0.1\n",
      "1  0.811957  0.767203   0.66875  1.353955  2       0.1       0.1\n",
      "2  0.917526  0.908224   0.80625  1.291316  2       0.1       0.1\n",
      "3  0.805070  0.832656   0.79375  1.743092  2       0.1       0.1\n",
      "4  0.767190  0.730613   0.70000  1.500983  2       0.1       0.1\n",
      "     PR_AUC   ROC_AUC  accuracy      loss  M  lambda_d  lambda_W\n",
      "0  0.778812  0.840117     0.775  1.383804  2       0.1       0.1\n",
      "1  0.784412  0.786755     0.695  1.350748  2       0.1       0.1\n",
      "2  0.776990  0.826249     0.745  1.325257  2       0.1       0.1\n",
      "3  0.785337  0.818511     0.775  1.751538  2       0.1       0.1\n",
      "4  0.801030  0.798211     0.735  1.486563  2       0.1       0.1\n"
     ]
    }
   ],
   "source": [
    "scores_va, scores_te = extract_scores(results)"
   ]
  },
  {
   "cell_type": "markdown",
   "metadata": {},
   "source": [
    "This function decides which hyperparameter configuration has the best validation accuracy on average, as measured by `ROC_AUC`."
   ]
  },
  {
   "cell_type": "code",
   "execution_count": 15,
   "metadata": {},
   "outputs": [],
   "source": [
    "def get_best_attributes(scores):\n",
    "    group = scores.groupby(['M','lambda_d','lambda_W'])\n",
    "    return group.mean().reset_index().sort_values('ROC_AUC', ascending=False).head()"
   ]
  },
  {
   "cell_type": "code",
   "execution_count": 16,
   "metadata": {
    "scrolled": false
   },
   "outputs": [
    {
     "data": {
      "text/html": [
       "<div>\n",
       "<style scoped>\n",
       "    .dataframe tbody tr th:only-of-type {\n",
       "        vertical-align: middle;\n",
       "    }\n",
       "\n",
       "    .dataframe tbody tr th {\n",
       "        vertical-align: top;\n",
       "    }\n",
       "\n",
       "    .dataframe thead th {\n",
       "        text-align: right;\n",
       "    }\n",
       "</style>\n",
       "<table border=\"1\" class=\"dataframe\">\n",
       "  <thead>\n",
       "    <tr style=\"text-align: right;\">\n",
       "      <th></th>\n",
       "      <th>M</th>\n",
       "      <th>lambda_d</th>\n",
       "      <th>lambda_W</th>\n",
       "      <th>PR_AUC</th>\n",
       "      <th>ROC_AUC</th>\n",
       "      <th>accuracy</th>\n",
       "      <th>loss</th>\n",
       "    </tr>\n",
       "  </thead>\n",
       "  <tbody>\n",
       "    <tr>\n",
       "      <th>38</th>\n",
       "      <td>6</td>\n",
       "      <td>0.001</td>\n",
       "      <td>0.100</td>\n",
       "      <td>0.864385</td>\n",
       "      <td>0.871973</td>\n",
       "      <td>0.78375</td>\n",
       "      <td>0.825172</td>\n",
       "    </tr>\n",
       "    <tr>\n",
       "      <th>28</th>\n",
       "      <td>5</td>\n",
       "      <td>0.001</td>\n",
       "      <td>0.010</td>\n",
       "      <td>0.871042</td>\n",
       "      <td>0.869047</td>\n",
       "      <td>0.78250</td>\n",
       "      <td>0.610264</td>\n",
       "    </tr>\n",
       "    <tr>\n",
       "      <th>9</th>\n",
       "      <td>3</td>\n",
       "      <td>0.001</td>\n",
       "      <td>0.001</td>\n",
       "      <td>0.852159</td>\n",
       "      <td>0.864088</td>\n",
       "      <td>0.78250</td>\n",
       "      <td>0.561806</td>\n",
       "    </tr>\n",
       "    <tr>\n",
       "      <th>32</th>\n",
       "      <td>5</td>\n",
       "      <td>0.010</td>\n",
       "      <td>0.100</td>\n",
       "      <td>0.868191</td>\n",
       "      <td>0.861929</td>\n",
       "      <td>0.78625</td>\n",
       "      <td>0.907478</td>\n",
       "    </tr>\n",
       "    <tr>\n",
       "      <th>37</th>\n",
       "      <td>6</td>\n",
       "      <td>0.001</td>\n",
       "      <td>0.010</td>\n",
       "      <td>0.858995</td>\n",
       "      <td>0.860134</td>\n",
       "      <td>0.77500</td>\n",
       "      <td>0.636809</td>\n",
       "    </tr>\n",
       "  </tbody>\n",
       "</table>\n",
       "</div>"
      ],
      "text/plain": [
       "    M  lambda_d  lambda_W    PR_AUC   ROC_AUC  accuracy      loss\n",
       "38  6     0.001     0.100  0.864385  0.871973   0.78375  0.825172\n",
       "28  5     0.001     0.010  0.871042  0.869047   0.78250  0.610264\n",
       "9   3     0.001     0.001  0.852159  0.864088   0.78250  0.561806\n",
       "32  5     0.010     0.100  0.868191  0.861929   0.78625  0.907478\n",
       "37  6     0.001     0.010  0.858995  0.860134   0.77500  0.636809"
      ]
     },
     "execution_count": 16,
     "metadata": {},
     "output_type": "execute_result"
    }
   ],
   "source": [
    "get_best_attributes(scores_va)"
   ]
  },
  {
   "cell_type": "markdown",
   "metadata": {},
   "source": [
    "Now we can train an SCM on the entire training data using the best hyperparameters."
   ]
  },
  {
   "cell_type": "code",
   "execution_count": 18,
   "metadata": {},
   "outputs": [],
   "source": [
    "d_tr_sc, d_te_sc = standardizer(D_tr, D_te, features)"
   ]
  },
  {
   "cell_type": "code",
   "execution_count": 19,
   "metadata": {},
   "outputs": [
    {
     "name": "stdout",
     "output_type": "stream",
     "text": [
      "numbers being printed: SGD iteration, training loss, training accuracy, validation loss, validation accuracy, time\n",
      "0\n",
      "200 0.7987542 0.53625 0.8000673 0.525 0.1358039379119873\n",
      "400 0.71457326 0.71625 0.71124184 0.715 5.524374008178711\n",
      "600 0.69282067 0.785 0.68987256 0.77 10.769197225570679\n",
      "800 0.67895895 0.81125 0.6756983 0.805 15.836751222610474\n",
      "1000 0.66785467 0.815 0.664533 0.805 20.83478856086731\n",
      "1200 0.6579155 0.825 0.65442586 0.825 25.918374061584473\n",
      "1400 0.6503688 0.82375 0.6469892 0.845 31.09776210784912\n",
      "1600 0.64359224 0.82375 0.64024884 0.85 36.83434772491455\n",
      "1800 0.63741255 0.82875 0.6337153 0.865 42.524641275405884\n",
      "2000 0.6319772 0.8325 0.6282441 0.87 48.449854612350464\n",
      "2200 0.6266623 0.8325 0.6226094 0.875 53.58075284957886\n",
      "2400 0.62190217 0.83125 0.617524 0.875 58.48794150352478\n",
      "training has terminated because: model took 2401 SGD steps\n"
     ]
    },
    {
     "data": {
      "text/plain": [
       "<classificationBinary.binaryCadreModel at 0x7f349fc900f0>"
      ]
     },
     "execution_count": 19,
     "metadata": {},
     "output_type": "execute_result"
    }
   ],
   "source": [
    "scm_best = binaryCadreModel(Tmax=2401, record=200, lambda_W=0.100, lambda_d=0.001, M=6)\n",
    "scm_best.fit(d_tr_sc, 'target', features, features, d_te_sc, progress=True)"
   ]
  },
  {
   "cell_type": "markdown",
   "metadata": {},
   "source": [
    "We can look at metric trajectories during training."
   ]
  },
  {
   "cell_type": "code",
   "execution_count": 22,
   "metadata": {},
   "outputs": [
    {
     "data": {
      "text/plain": [
       "<matplotlib.axes._subplots.AxesSubplot at 0x7f352d906ac8>"
      ]
     },
     "execution_count": 22,
     "metadata": {},
     "output_type": "execute_result"
    },
    {
     "data": {
      "image/png": "[encoded data removed]",
      "text/plain": [
       "<Figure size 432x288 with 1 Axes>"
      ]
     },
     "metadata": {},
     "output_type": "display_data"
    }
   ],
   "source": [
    "scm_best.metrics['validation'].plot()"
   ]
  },
  {
   "cell_type": "markdown",
   "metadata": {},
   "source": [
    "We can use the `scoreMetrics` method to calculate a variety of goodness-of-fit metrics."
   ]
  },
  {
   "cell_type": "code",
   "execution_count": 24,
   "metadata": {},
   "outputs": [
    {
     "data": {
      "text/html": [
       "<div>\n",
       "<style scoped>\n",
       "    .dataframe tbody tr th:only-of-type {\n",
       "        vertical-align: middle;\n",
       "    }\n",
       "\n",
       "    .dataframe tbody tr th {\n",
       "        vertical-align: top;\n",
       "    }\n",
       "\n",
       "    .dataframe thead th {\n",
       "        text-align: right;\n",
       "    }\n",
       "</style>\n",
       "<table border=\"1\" class=\"dataframe\">\n",
       "  <thead>\n",
       "    <tr style=\"text-align: right;\">\n",
       "      <th></th>\n",
       "      <th>PR_AUC</th>\n",
       "      <th>ROC_AUC</th>\n",
       "      <th>accuracy</th>\n",
       "      <th>loss</th>\n",
       "    </tr>\n",
       "  </thead>\n",
       "  <tbody>\n",
       "    <tr>\n",
       "      <th>0</th>\n",
       "      <td>0.932745</td>\n",
       "      <td>0.933285</td>\n",
       "      <td>0.8325</td>\n",
       "      <td>0.716729</td>\n",
       "    </tr>\n",
       "  </tbody>\n",
       "</table>\n",
       "</div>"
      ],
      "text/plain": [
       "     PR_AUC   ROC_AUC  accuracy      loss\n",
       "0  0.932745  0.933285    0.8325  0.716729"
      ]
     },
     "execution_count": 24,
     "metadata": {},
     "output_type": "execute_result"
    }
   ],
   "source": [
    "scm_best.scoreMetrics(d_tr_sc)"
   ]
  },
  {
   "cell_type": "code",
   "execution_count": 23,
   "metadata": {
    "scrolled": true
   },
   "outputs": [
    {
     "data": {
      "text/html": [
       "<div>\n",
       "<style scoped>\n",
       "    .dataframe tbody tr th:only-of-type {\n",
       "        vertical-align: middle;\n",
       "    }\n",
       "\n",
       "    .dataframe tbody tr th {\n",
       "        vertical-align: top;\n",
       "    }\n",
       "\n",
       "    .dataframe thead th {\n",
       "        text-align: right;\n",
       "    }\n",
       "</style>\n",
       "<table border=\"1\" class=\"dataframe\">\n",
       "  <thead>\n",
       "    <tr style=\"text-align: right;\">\n",
       "      <th></th>\n",
       "      <th>PR_AUC</th>\n",
       "      <th>ROC_AUC</th>\n",
       "      <th>accuracy</th>\n",
       "      <th>loss</th>\n",
       "    </tr>\n",
       "  </thead>\n",
       "  <tbody>\n",
       "    <tr>\n",
       "      <th>0</th>\n",
       "      <td>0.938827</td>\n",
       "      <td>0.945734</td>\n",
       "      <td>0.88</td>\n",
       "      <td>0.711054</td>\n",
       "    </tr>\n",
       "  </tbody>\n",
       "</table>\n",
       "</div>"
      ],
      "text/plain": [
       "     PR_AUC   ROC_AUC  accuracy      loss\n",
       "0  0.938827  0.945734      0.88  0.711054"
      ]
     },
     "execution_count": 23,
     "metadata": {},
     "output_type": "execute_result"
    }
   ],
   "source": [
    "scm_best.scoreMetrics(d_te_sc)"
   ]
  },
  {
   "cell_type": "markdown",
   "metadata": {},
   "source": [
    "What we notice here is that the test set accuracy (88%) was better than the training set accuracy (83%). This is probably due to noise in the data generation mechanism caused by a relatively small number of observations."
   ]
  },
  {
   "cell_type": "markdown",
   "metadata": {},
   "source": [
    "We can also calculate subpopulation-specific goodness-of-fit metrics. Here, `proportion` indicates the proportion of that cadre having `'target' = +1`."
   ]
  },
  {
   "cell_type": "code",
   "execution_count": 27,
   "metadata": {},
   "outputs": [
    {
     "data": {
      "text/html": [
       "<div>\n",
       "<style scoped>\n",
       "    .dataframe tbody tr th:only-of-type {\n",
       "        vertical-align: middle;\n",
       "    }\n",
       "\n",
       "    .dataframe tbody tr th {\n",
       "        vertical-align: top;\n",
       "    }\n",
       "\n",
       "    .dataframe thead th {\n",
       "        text-align: right;\n",
       "    }\n",
       "</style>\n",
       "<table border=\"1\" class=\"dataframe\">\n",
       "  <thead>\n",
       "    <tr style=\"text-align: right;\">\n",
       "      <th></th>\n",
       "      <th>m</th>\n",
       "      <th>size</th>\n",
       "      <th>proportion</th>\n",
       "      <th>accuracy</th>\n",
       "      <th>ROC_AUC</th>\n",
       "      <th>PR_AUC</th>\n",
       "    </tr>\n",
       "  </thead>\n",
       "  <tbody>\n",
       "    <tr>\n",
       "      <th>0</th>\n",
       "      <td>0</td>\n",
       "      <td>19</td>\n",
       "      <td>0.105263</td>\n",
       "      <td>0.947368</td>\n",
       "      <td>0.941176</td>\n",
       "      <td>0.583333</td>\n",
       "    </tr>\n",
       "    <tr>\n",
       "      <th>1</th>\n",
       "      <td>1</td>\n",
       "      <td>14</td>\n",
       "      <td>0.857143</td>\n",
       "      <td>0.857143</td>\n",
       "      <td>0.625000</td>\n",
       "      <td>0.933377</td>\n",
       "    </tr>\n",
       "    <tr>\n",
       "      <th>2</th>\n",
       "      <td>2</td>\n",
       "      <td>43</td>\n",
       "      <td>0.813953</td>\n",
       "      <td>0.813953</td>\n",
       "      <td>0.907143</td>\n",
       "      <td>0.980353</td>\n",
       "    </tr>\n",
       "    <tr>\n",
       "      <th>3</th>\n",
       "      <td>3</td>\n",
       "      <td>70</td>\n",
       "      <td>0.028571</td>\n",
       "      <td>0.971429</td>\n",
       "      <td>0.897059</td>\n",
       "      <td>0.183333</td>\n",
       "    </tr>\n",
       "    <tr>\n",
       "      <th>4</th>\n",
       "      <td>4</td>\n",
       "      <td>43</td>\n",
       "      <td>0.837209</td>\n",
       "      <td>0.860465</td>\n",
       "      <td>0.825397</td>\n",
       "      <td>0.963781</td>\n",
       "    </tr>\n",
       "    <tr>\n",
       "      <th>5</th>\n",
       "      <td>5</td>\n",
       "      <td>11</td>\n",
       "      <td>0.545455</td>\n",
       "      <td>0.545455</td>\n",
       "      <td>0.400000</td>\n",
       "      <td>0.521164</td>\n",
       "    </tr>\n",
       "  </tbody>\n",
       "</table>\n",
       "</div>"
      ],
      "text/plain": [
       "   m  size  proportion  accuracy   ROC_AUC    PR_AUC\n",
       "0  0    19    0.105263  0.947368  0.941176  0.583333\n",
       "1  1    14    0.857143  0.857143  0.625000  0.933377\n",
       "2  2    43    0.813953  0.813953  0.907143  0.980353\n",
       "3  3    70    0.028571  0.971429  0.897059  0.183333\n",
       "4  4    43    0.837209  0.860465  0.825397  0.963781\n",
       "5  5    11    0.545455  0.545455  0.400000  0.521164"
      ]
     },
     "execution_count": 27,
     "metadata": {},
     "output_type": "execute_result"
    }
   ],
   "source": [
    "scm_best.scoreMetricsCadre(d_te_sc)"
   ]
  },
  {
   "cell_type": "markdown",
   "metadata": {},
   "source": [
    "We see that most cadres are heavily of one class."
   ]
  }
 ],
 "metadata": {
  "kernelspec": {
   "display_name": "Python [conda env:my_root]",
   "language": "python",
   "name": "conda-env-my_root-py"
  },
  "language_info": {
   "codemirror_mode": {
    "name": "ipython",
    "version": 3
   },
   "file_extension": ".py",
   "mimetype": "text/x-python",
   "name": "python",
   "nbconvert_exporter": "python",
   "pygments_lexer": "ipython3",
   "version": "3.6.8"
  }
 },
 "nbformat": 4,
 "nbformat_minor": 2
}
