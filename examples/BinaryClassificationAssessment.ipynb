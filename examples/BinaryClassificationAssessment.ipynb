{
 "cells": [
  {
   "cell_type": "markdown",
   "metadata": {},
   "source": [
    "In this notebook, we're going to demonstrate the use of various cadre-assessment metrics. These help us decide if a discovered cadre structure is interesting and/or stable.\n",
    "\n",
    "When training an SCM, we're going to use optimal hyperparameters identified in `BinaryClassificationTuning.ipynb`. You should work through that notebook before looking at this one."
   ]
  },
  {
   "cell_type": "code",
   "execution_count": 1,
   "metadata": {},
   "outputs": [],
   "source": [
    "import numpy as np\n",
    "import pandas as pd\n",
    "import sys\n",
    "import matplotlib.pyplot as plt\n",
    "import seaborn as sns\n",
    "\n",
    "sys.path.insert(0, '../cadreModels')\n",
    "\n",
    "from classificationBinary import binaryCadreModel\n",
    "\n",
    "from sklearn.model_selection import train_test_split"
   ]
  },
  {
   "cell_type": "code",
   "execution_count": 2,
   "metadata": {},
   "outputs": [],
   "source": [
    "%load_ext autoreload\n",
    "%autoreload 2"
   ]
  },
  {
   "cell_type": "code",
   "execution_count": 3,
   "metadata": {},
   "outputs": [],
   "source": [
    "sns.set_style('darkgrid')"
   ]
  },
  {
   "cell_type": "code",
   "execution_count": 4,
   "metadata": {},
   "outputs": [],
   "source": [
    "data = pd.read_csv('https://raw.githubusercontent.com/HealthINCITE/cadre/master/data/df_moderate.csv')\n",
    "features = data.columns[data.columns.str.contains('cad|dv') & (data.columns != 'cadre')]"
   ]
  },
  {
   "cell_type": "code",
   "execution_count": 5,
   "metadata": {},
   "outputs": [
    {
     "data": {
      "text/html": [
       "<div>\n",
       "<style scoped>\n",
       "    .dataframe tbody tr th:only-of-type {\n",
       "        vertical-align: middle;\n",
       "    }\n",
       "\n",
       "    .dataframe tbody tr th {\n",
       "        vertical-align: top;\n",
       "    }\n",
       "\n",
       "    .dataframe thead th {\n",
       "        text-align: right;\n",
       "    }\n",
       "</style>\n",
       "<table border=\"1\" class=\"dataframe\">\n",
       "  <thead>\n",
       "    <tr style=\"text-align: right;\">\n",
       "      <th></th>\n",
       "      <th>cad0</th>\n",
       "      <th>cad1</th>\n",
       "      <th>cad2</th>\n",
       "      <th>cad3</th>\n",
       "      <th>cad4</th>\n",
       "      <th>cad5</th>\n",
       "      <th>cad6</th>\n",
       "      <th>cad7</th>\n",
       "      <th>cad8</th>\n",
       "      <th>cad9</th>\n",
       "      <th>cadre</th>\n",
       "      <th>dv0</th>\n",
       "      <th>dv1</th>\n",
       "      <th>dv2</th>\n",
       "      <th>dv3</th>\n",
       "      <th>dv4</th>\n",
       "      <th>target</th>\n",
       "    </tr>\n",
       "  </thead>\n",
       "  <tbody>\n",
       "    <tr>\n",
       "      <th>0</th>\n",
       "      <td>0.191442</td>\n",
       "      <td>2.266938</td>\n",
       "      <td>-1.571560</td>\n",
       "      <td>-1.000071</td>\n",
       "      <td>2.575162</td>\n",
       "      <td>0.809672</td>\n",
       "      <td>-0.158311</td>\n",
       "      <td>-1.647344</td>\n",
       "      <td>0.651466</td>\n",
       "      <td>-1.060883</td>\n",
       "      <td>0</td>\n",
       "      <td>4.784785</td>\n",
       "      <td>5.177201</td>\n",
       "      <td>-4.189262</td>\n",
       "      <td>5.070376</td>\n",
       "      <td>-4.898889</td>\n",
       "      <td>1</td>\n",
       "    </tr>\n",
       "    <tr>\n",
       "      <th>1</th>\n",
       "      <td>-1.174611</td>\n",
       "      <td>-0.395598</td>\n",
       "      <td>-0.436501</td>\n",
       "      <td>-0.606625</td>\n",
       "      <td>0.391813</td>\n",
       "      <td>0.092166</td>\n",
       "      <td>-0.008130</td>\n",
       "      <td>1.103397</td>\n",
       "      <td>0.112093</td>\n",
       "      <td>1.117736</td>\n",
       "      <td>0</td>\n",
       "      <td>-6.783252</td>\n",
       "      <td>-4.636362</td>\n",
       "      <td>4.250647</td>\n",
       "      <td>4.624133</td>\n",
       "      <td>-5.060853</td>\n",
       "      <td>0</td>\n",
       "    </tr>\n",
       "    <tr>\n",
       "      <th>2</th>\n",
       "      <td>-0.415574</td>\n",
       "      <td>0.968346</td>\n",
       "      <td>0.047912</td>\n",
       "      <td>-1.216676</td>\n",
       "      <td>0.695269</td>\n",
       "      <td>-0.188202</td>\n",
       "      <td>-0.665783</td>\n",
       "      <td>2.152114</td>\n",
       "      <td>0.284394</td>\n",
       "      <td>2.169629</td>\n",
       "      <td>0</td>\n",
       "      <td>-5.179748</td>\n",
       "      <td>-4.222403</td>\n",
       "      <td>-3.925779</td>\n",
       "      <td>5.182969</td>\n",
       "      <td>-5.919294</td>\n",
       "      <td>1</td>\n",
       "    </tr>\n",
       "    <tr>\n",
       "      <th>3</th>\n",
       "      <td>-0.785389</td>\n",
       "      <td>0.113480</td>\n",
       "      <td>-0.186819</td>\n",
       "      <td>-0.233704</td>\n",
       "      <td>0.014695</td>\n",
       "      <td>0.727447</td>\n",
       "      <td>0.543753</td>\n",
       "      <td>2.427905</td>\n",
       "      <td>-0.961922</td>\n",
       "      <td>-0.103388</td>\n",
       "      <td>0</td>\n",
       "      <td>6.143124</td>\n",
       "      <td>4.980376</td>\n",
       "      <td>-4.985737</td>\n",
       "      <td>5.742185</td>\n",
       "      <td>-4.723161</td>\n",
       "      <td>1</td>\n",
       "    </tr>\n",
       "    <tr>\n",
       "      <th>4</th>\n",
       "      <td>0.377902</td>\n",
       "      <td>1.359901</td>\n",
       "      <td>0.563633</td>\n",
       "      <td>0.511998</td>\n",
       "      <td>0.411057</td>\n",
       "      <td>-0.110674</td>\n",
       "      <td>0.204616</td>\n",
       "      <td>-0.375118</td>\n",
       "      <td>0.165277</td>\n",
       "      <td>-0.627823</td>\n",
       "      <td>0</td>\n",
       "      <td>3.798002</td>\n",
       "      <td>6.331110</td>\n",
       "      <td>-5.460732</td>\n",
       "      <td>5.288602</td>\n",
       "      <td>-4.742962</td>\n",
       "      <td>1</td>\n",
       "    </tr>\n",
       "  </tbody>\n",
       "</table>\n",
       "</div>"
      ],
      "text/plain": [
       "       cad0      cad1      cad2      cad3      cad4      cad5      cad6  \\\n",
       "0  0.191442  2.266938 -1.571560 -1.000071  2.575162  0.809672 -0.158311   \n",
       "1 -1.174611 -0.395598 -0.436501 -0.606625  0.391813  0.092166 -0.008130   \n",
       "2 -0.415574  0.968346  0.047912 -1.216676  0.695269 -0.188202 -0.665783   \n",
       "3 -0.785389  0.113480 -0.186819 -0.233704  0.014695  0.727447  0.543753   \n",
       "4  0.377902  1.359901  0.563633  0.511998  0.411057 -0.110674  0.204616   \n",
       "\n",
       "       cad7      cad8      cad9  cadre       dv0       dv1       dv2  \\\n",
       "0 -1.647344  0.651466 -1.060883      0  4.784785  5.177201 -4.189262   \n",
       "1  1.103397  0.112093  1.117736      0 -6.783252 -4.636362  4.250647   \n",
       "2  2.152114  0.284394  2.169629      0 -5.179748 -4.222403 -3.925779   \n",
       "3  2.427905 -0.961922 -0.103388      0  6.143124  4.980376 -4.985737   \n",
       "4 -0.375118  0.165277 -0.627823      0  3.798002  6.331110 -5.460732   \n",
       "\n",
       "        dv3       dv4  target  \n",
       "0  5.070376 -4.898889       1  \n",
       "1  4.624133 -5.060853       0  \n",
       "2  5.182969 -5.919294       1  \n",
       "3  5.742185 -4.723161       1  \n",
       "4  5.288602 -4.742962       1  "
      ]
     },
     "execution_count": 5,
     "metadata": {},
     "output_type": "execute_result"
    }
   ],
   "source": [
    "data.head()"
   ]
  },
  {
   "cell_type": "code",
   "execution_count": 6,
   "metadata": {},
   "outputs": [
    {
     "data": {
      "text/plain": [
       "Index(['cad0', 'cad1', 'cad2', 'cad3', 'cad4', 'cad5', 'cad6', 'cad7', 'cad8',\n",
       "       'cad9', 'dv0', 'dv1', 'dv2', 'dv3', 'dv4'],\n",
       "      dtype='object')"
      ]
     },
     "execution_count": 6,
     "metadata": {},
     "output_type": "execute_result"
    }
   ],
   "source": [
    "features"
   ]
  },
  {
   "cell_type": "markdown",
   "metadata": {},
   "source": [
    "Overall training-testing split."
   ]
  },
  {
   "cell_type": "code",
   "execution_count": 7,
   "metadata": {},
   "outputs": [],
   "source": [
    "D_tr, D_te = train_test_split(data, test_size=0.2, random_state=313616)"
   ]
  },
  {
   "cell_type": "markdown",
   "metadata": {},
   "source": [
    "Functions for standardization"
   ]
  },
  {
   "cell_type": "code",
   "execution_count": 8,
   "metadata": {},
   "outputs": [],
   "source": [
    "def standardize_col(col, mean, std):\n",
    "    return (col - mean) / std"
   ]
  },
  {
   "cell_type": "code",
   "execution_count": 9,
   "metadata": {},
   "outputs": [],
   "source": [
    "def standardizer(d_tr, features, d_va=None, d_te=None):\n",
    "    d_tr_scale = d_tr.copy()\n",
    "    if d_va is not None:\n",
    "        d_va_scale = d_va.copy()\n",
    "    if d_te is not None:\n",
    "        d_te_scale = d_te.copy()\n",
    "    for feature in features:\n",
    "        f_mean = d_tr[feature].mean()\n",
    "        f_std = d_tr[feature].std()\n",
    "        \n",
    "        d_tr_scale[feature] = standardize_col(d_tr_scale[feature], f_mean, f_std)\n",
    "        if d_va is not None:\n",
    "            d_va_scale[feature] = standardize_col(d_va_scale[feature], f_mean, f_std)\n",
    "        if d_te is not None:\n",
    "            d_te_scale[feature] = standardize_col(d_te_scale[feature], f_mean, f_std)\n",
    "        \n",
    "    if d_te is not None and d_va is not None:\n",
    "        return d_tr_scale, d_va_scale, d_te_scale\n",
    "    elif d_va is not None:\n",
    "        return d_tr_scale, d_va_scale\n",
    "    elif d_te is not None:\n",
    "        return d_tr_scale, d_te_scale\n",
    "    else:\n",
    "        return d_tr_scale"
   ]
  },
  {
   "cell_type": "code",
   "execution_count": 10,
   "metadata": {},
   "outputs": [],
   "source": [
    "d_tr_sc, d_te_sc = standardizer(D_tr, features, d_te=D_te)"
   ]
  },
  {
   "cell_type": "code",
   "execution_count": 11,
   "metadata": {},
   "outputs": [],
   "source": [
    "M = 6\n",
    "lambda_d=0.001\n",
    "lambda_W = 0.1"
   ]
  },
  {
   "cell_type": "code",
   "execution_count": 12,
   "metadata": {
    "scrolled": false
   },
   "outputs": [
    {
     "name": "stdout",
     "output_type": "stream",
     "text": [
      "numbers being printed: SGD iteration, training loss, training accuracy, validation loss, validation accuracy, time\n",
      "0\n",
      "200 0.7987542 0.53625 0.8000673 0.525 0.1554274559020996\n",
      "400 0.71457326 0.71625 0.71124184 0.715 5.001260757446289\n",
      "600 0.69282067 0.785 0.68987256 0.77 9.861350774765015\n",
      "800 0.67895895 0.81125 0.6756983 0.805 14.64006757736206\n",
      "1000 0.66785467 0.815 0.664533 0.805 19.074071645736694\n",
      "1200 0.6579155 0.825 0.65442586 0.825 23.324342966079712\n",
      "1400 0.6503688 0.82375 0.6469892 0.845 27.615272521972656\n",
      "1600 0.64359224 0.82375 0.64024884 0.85 31.837649822235107\n",
      "1800 0.63741255 0.82875 0.6337153 0.865 36.219985246658325\n",
      "2000 0.6319772 0.8325 0.6282441 0.87 40.72382402420044\n",
      "2200 0.6266623 0.8325 0.6226094 0.875 45.25258660316467\n",
      "2400 0.62190217 0.83125 0.617524 0.875 49.84610629081726\n",
      "training has terminated because: model took 2401 SGD steps\n"
     ]
    },
    {
     "data": {
      "text/plain": [
       "<classificationBinary.binaryCadreModel at 0x7ff21a6f1b00>"
      ]
     },
     "execution_count": 12,
     "metadata": {},
     "output_type": "execute_result"
    }
   ],
   "source": [
    "scm_best = binaryCadreModel(Tmax=2401, record=200, lambda_W=lambda_W, lambda_d=lambda_d, M=M)\n",
    "scm_best.fit(d_tr_sc, 'target', features, features, d_te_sc, progress=True)"
   ]
  },
  {
   "cell_type": "markdown",
   "metadata": {},
   "source": [
    "An easy way to quantify the simplicity of a learned cadre structure is to examine how sparse the cadre assignment weight parameter `d` is. We plot it below."
   ]
  },
  {
   "cell_type": "code",
   "execution_count": 13,
   "metadata": {
    "scrolled": true
   },
   "outputs": [
    {
     "data": {
      "image/png": "[encoded data removed]",
      "text/plain": [
       "<Figure size 432x288 with 1 Axes>"
      ]
     },
     "metadata": {},
     "output_type": "display_data"
    }
   ],
   "source": [
    "p = sns.lineplot(data=scm_best.d)\n",
    "for item in p.get_xticklabels():\n",
    "    item.set_rotation(45)"
   ]
  },
  {
   "cell_type": "markdown",
   "metadata": {},
   "source": [
    "We see that the features `dv2` and `dv0` have the largest `d_p` values, indicating that changes in them are most strongly associated with changes in cadre membership. Overall, this `d` parameter is not especially sparse."
   ]
  },
  {
   "cell_type": "markdown",
   "metadata": {},
   "source": [
    "We can also calculate the conditional entropy of the cadre assignment random variable. When this is low for a given cadre (close to 0), the assignment probabilities of observations to that cadre tend to be close to 1, and cadre assignments are more confident. When it is large for a given cadre (close to `log2(M)`), assignment probabilities of observations to that cadre are less confident. More details about this use of conditional entropy may be found at `arXiv:1808.04880`."
   ]
  },
  {
   "cell_type": "code",
   "execution_count": 14,
   "metadata": {
    "scrolled": true
   },
   "outputs": [
    {
     "data": {
      "text/plain": [
       "3    0.307827\n",
       "4    0.566937\n",
       "2    0.868749\n",
       "1    0.874816\n",
       "0    1.068803\n",
       "5    1.404583\n",
       "dtype: float64"
      ]
     },
     "execution_count": 14,
     "metadata": {},
     "output_type": "execute_result"
    }
   ],
   "source": [
    "pd.Series(scm_best.entropy(d_tr_sc), index=np.arange(6)).sort_values()"
   ]
  },
  {
   "cell_type": "code",
   "execution_count": 15,
   "metadata": {},
   "outputs": [
    {
     "data": {
      "text/plain": [
       "2.584962500721156"
      ]
     },
     "execution_count": 15,
     "metadata": {},
     "output_type": "execute_result"
    }
   ],
   "source": [
    "np.log2(6)"
   ]
  },
  {
   "cell_type": "markdown",
   "metadata": {},
   "source": [
    "Cadre 3 has the lowest cadre assignment conditional entropy. Overall, the entropies are fairly large."
   ]
  },
  {
   "cell_type": "code",
   "execution_count": 16,
   "metadata": {},
   "outputs": [
    {
     "data": {
      "text/html": [
       "<div>\n",
       "<style scoped>\n",
       "    .dataframe tbody tr th:only-of-type {\n",
       "        vertical-align: middle;\n",
       "    }\n",
       "\n",
       "    .dataframe tbody tr th {\n",
       "        vertical-align: top;\n",
       "    }\n",
       "\n",
       "    .dataframe thead th {\n",
       "        text-align: right;\n",
       "    }\n",
       "</style>\n",
       "<table border=\"1\" class=\"dataframe\">\n",
       "  <thead>\n",
       "    <tr style=\"text-align: right;\">\n",
       "      <th></th>\n",
       "      <th>PR_AUC</th>\n",
       "      <th>ROC_AUC</th>\n",
       "      <th>accuracy</th>\n",
       "      <th>loss</th>\n",
       "    </tr>\n",
       "  </thead>\n",
       "  <tbody>\n",
       "    <tr>\n",
       "      <th>0</th>\n",
       "      <td>0.938827</td>\n",
       "      <td>0.945734</td>\n",
       "      <td>0.88</td>\n",
       "      <td>0.711054</td>\n",
       "    </tr>\n",
       "  </tbody>\n",
       "</table>\n",
       "</div>"
      ],
      "text/plain": [
       "     PR_AUC   ROC_AUC  accuracy      loss\n",
       "0  0.938827  0.945734      0.88  0.711054"
      ]
     },
     "execution_count": 16,
     "metadata": {},
     "output_type": "execute_result"
    }
   ],
   "source": [
    "scm_best.scoreMetrics(d_te_sc)"
   ]
  },
  {
   "cell_type": "markdown",
   "metadata": {},
   "source": [
    "When cadre assignments are confident, then the SCM may be treated as piecewise-linear, and inferences about associations between the target and features may be made by looking at the `W` parameter. When cadre assignments are not confident, then the SCM may be predicting the target with a generally nonlinear behavior."
   ]
  },
  {
   "cell_type": "markdown",
   "metadata": {},
   "source": [
    "One way we can force the SCM to behave in a piecewise-linear way is to increase the `gamma` parameter after training. If making this increase doesn't noticeably affect generalization accuracy, then the simpler piecewise-linear predictions are just as good as a generally nonlinear prediction. Note that changing `gamma` will never affect predicted cadre memberships, it will only sharpen cadre-assignment probabilities."
   ]
  },
  {
   "cell_type": "code",
   "execution_count": 17,
   "metadata": {},
   "outputs": [],
   "source": [
    "scm_best.gamma = 100"
   ]
  },
  {
   "cell_type": "code",
   "execution_count": 18,
   "metadata": {},
   "outputs": [
    {
     "data": {
      "text/plain": [
       "3    0.037724\n",
       "4    0.084783\n",
       "1    0.098577\n",
       "2    0.136039\n",
       "0    0.137295\n",
       "5    0.269282\n",
       "dtype: float64"
      ]
     },
     "execution_count": 18,
     "metadata": {},
     "output_type": "execute_result"
    }
   ],
   "source": [
    "pd.Series(scm_best.entropy(d_tr_sc), index=np.arange(6)).sort_values()"
   ]
  },
  {
   "cell_type": "markdown",
   "metadata": {},
   "source": [
    "By increasing `gamma`, we've shrunk the conditional entropies."
   ]
  },
  {
   "cell_type": "code",
   "execution_count": 19,
   "metadata": {
    "scrolled": true
   },
   "outputs": [
    {
     "data": {
      "text/html": [
       "<div>\n",
       "<style scoped>\n",
       "    .dataframe tbody tr th:only-of-type {\n",
       "        vertical-align: middle;\n",
       "    }\n",
       "\n",
       "    .dataframe tbody tr th {\n",
       "        vertical-align: top;\n",
       "    }\n",
       "\n",
       "    .dataframe thead th {\n",
       "        text-align: right;\n",
       "    }\n",
       "</style>\n",
       "<table border=\"1\" class=\"dataframe\">\n",
       "  <thead>\n",
       "    <tr style=\"text-align: right;\">\n",
       "      <th></th>\n",
       "      <th>PR_AUC</th>\n",
       "      <th>ROC_AUC</th>\n",
       "      <th>accuracy</th>\n",
       "      <th>loss</th>\n",
       "    </tr>\n",
       "  </thead>\n",
       "  <tbody>\n",
       "    <tr>\n",
       "      <th>0</th>\n",
       "      <td>0.927452</td>\n",
       "      <td>0.939504</td>\n",
       "      <td>0.875</td>\n",
       "      <td>0.706822</td>\n",
       "    </tr>\n",
       "  </tbody>\n",
       "</table>\n",
       "</div>"
      ],
      "text/plain": [
       "     PR_AUC   ROC_AUC  accuracy      loss\n",
       "0  0.927452  0.939504     0.875  0.706822"
      ]
     },
     "execution_count": 19,
     "metadata": {},
     "output_type": "execute_result"
    }
   ],
   "source": [
    "scm_best.scoreMetrics(d_te_sc)"
   ]
  },
  {
   "cell_type": "markdown",
   "metadata": {},
   "source": [
    "Generalization accuracies have decreased, but not excessively."
   ]
  },
  {
   "cell_type": "markdown",
   "metadata": {},
   "source": [
    "Recall that each cadre $m$ is given a vector of weights $w^m \\in \\mathbb{R}^P$ quantifying the association between the target and each feature $p$. An interesting question is: How similar are each cadre's weight vector to each other? We can quantify this with an average standard deviation, implemented in the `weight_comparison` method."
   ]
  },
  {
   "cell_type": "markdown",
   "metadata": {},
   "source": [
    "This method calculates $$\\frac{1}{P} \\sum_{p=1}^M \\text{StdDev}(w^1_p, ..., w^M_p).$$"
   ]
  },
  {
   "cell_type": "code",
   "execution_count": 20,
   "metadata": {},
   "outputs": [
    {
     "data": {
      "text/plain": [
       "0.023537373"
      ]
     },
     "execution_count": 20,
     "metadata": {},
     "output_type": "execute_result"
    }
   ],
   "source": [
    "scm_best.weight_comparison()"
   ]
  },
  {
   "cell_type": "markdown",
   "metadata": {},
   "source": [
    "We can get more detail by looking at a heatmap."
   ]
  },
  {
   "cell_type": "code",
   "execution_count": 21,
   "metadata": {},
   "outputs": [
    {
     "data": {
      "text/plain": [
       "<matplotlib.axes._subplots.AxesSubplot at 0x7ff204693198>"
      ]
     },
     "execution_count": 21,
     "metadata": {},
     "output_type": "execute_result"
    },
    {
     "data": {
      "image/png": "[encoded data removed]",
      "text/plain": [
       "<Figure size 432x288 with 2 Axes>"
      ]
     },
     "metadata": {},
     "output_type": "display_data"
    }
   ],
   "source": [
    "sns.heatmap(scm_best.W)"
   ]
  },
  {
   "cell_type": "markdown",
   "metadata": {},
   "source": [
    "It seems that cadres 0 and 5 have very sparse weight vectors, and cadres 2, 3, and 4 have denser weight vectors."
   ]
  },
  {
   "cell_type": "markdown",
   "metadata": {},
   "source": [
    "The `binaryCadreModel` class has a number of methods for applying a trained model to new data."
   ]
  },
  {
   "cell_type": "markdown",
   "metadata": {},
   "source": [
    "The `predictMargin` method returns predicted classification margins for new observations. When an observation's margin is small, the observation is probably of class 0, and when it is large, the observation is probably of class 1."
   ]
  },
  {
   "cell_type": "code",
   "execution_count": 22,
   "metadata": {},
   "outputs": [],
   "source": [
    "f = scm_best.predictMargin(d_te_sc)"
   ]
  },
  {
   "cell_type": "markdown",
   "metadata": {},
   "source": [
    "The `predictClass` method returns predicted labels for new observations."
   ]
  },
  {
   "cell_type": "code",
   "execution_count": 23,
   "metadata": {},
   "outputs": [],
   "source": [
    "l = scm_best.predictClass(d_te_sc)"
   ]
  },
  {
   "cell_type": "markdown",
   "metadata": {},
   "source": [
    "The `predictCadre` method returns predicted cadre assignments for new observations."
   ]
  },
  {
   "cell_type": "code",
   "execution_count": 24,
   "metadata": {},
   "outputs": [],
   "source": [
    "m = scm_best.predictCadre(d_te_sc)"
   ]
  },
  {
   "cell_type": "markdown",
   "metadata": {},
   "source": [
    "There's also a `predictFull` method, that, in addition to `f`, `l`, and `m`, also returns:\n",
    "* `G` -- the matrix of cadre assignment probabilities for new data\n",
    "* `loss` -- the value of the loss function, evaluated on the new dataset"
   ]
  },
  {
   "cell_type": "code",
   "execution_count": 25,
   "metadata": {},
   "outputs": [],
   "source": [
    "f, l, G, m, loss = scm_best.predictFull(d_te_sc)"
   ]
  },
  {
   "cell_type": "markdown",
   "metadata": {},
   "source": [
    "It's useful to know how stable a given cadre is. That is, if the data generation had occurred in a slightly different way, would the same observations still be assigned to the same cadres?\n",
    "\n",
    "We can try to answer this question with bootstrapping and the average best match (ABM). More details about the ABM may be found in `arXiv:1802.02500`.\n",
    "\n",
    "The basic idea is to take a lot of bootstrap samples of the original dataset, and then match cadres in the bootstrapped data to cadres in the original data with a score between 0 and 1. These scores are then averaged over all bootstrap samples."
   ]
  },
  {
   "cell_type": "markdown",
   "metadata": {},
   "source": [
    "Number of bootstrap samples. This is smaller than you would want to use in practice."
   ]
  },
  {
   "cell_type": "code",
   "execution_count": 26,
   "metadata": {},
   "outputs": [],
   "source": [
    "nBoot = 8"
   ]
  },
  {
   "cell_type": "code",
   "execution_count": 27,
   "metadata": {},
   "outputs": [],
   "source": [
    "indices = []\n",
    "data_sc = standardizer(data, features)\n",
    "indices.append(pd.DataFrame({'m': scm_best.predictCadre(data_sc), 'n': np.arange(data.shape[0])}))"
   ]
  },
  {
   "cell_type": "code",
   "execution_count": 28,
   "metadata": {},
   "outputs": [],
   "source": [
    "inits = {'d': scm_best.d.values,\n",
    "        'C': scm_best.C.values,\n",
    "        'W': scm_best.W.values,\n",
    "        'W0': scm_best.W0}"
   ]
  },
  {
   "cell_type": "markdown",
   "metadata": {},
   "source": [
    "Generate bootstrap samples and calculate cadre assignments."
   ]
  },
  {
   "cell_type": "code",
   "execution_count": 29,
   "metadata": {
    "scrolled": false
   },
   "outputs": [
    {
     "name": "stdout",
     "output_type": "stream",
     "text": [
      "0\n",
      "1\n",
      "2\n",
      "3\n",
      "4\n",
      "5\n",
      "6\n",
      "7\n"
     ]
    }
   ],
   "source": [
    "for b in range(nBoot):\n",
    "    print(b)\n",
    "    d_boot = data.sample(frac=1, replace=True, random_state=b)\n",
    "    __, d_b_sc = standardizer(data, features, d_te=d_boot)\n",
    "    \n",
    "    scm_boot = binaryCadreModel(Tmax=201, record=200, lambda_W=lambda_W, lambda_d=lambda_d, M=M)\n",
    "    scm_boot.fit(d_b_sc, 'target', features, features)\n",
    "    \n",
    "    assignments = pd.DataFrame({'m': scm_best.predictCadre(d_b_sc), 'n': d_b_sc.index})\n",
    "    indices.append(assignments)"
   ]
  },
  {
   "cell_type": "markdown",
   "metadata": {},
   "source": [
    "For each entry of `indices`, column `'n'` is the index of that observation (in the original dataset), and column `'m'` is that observation's assigned cadre."
   ]
  },
  {
   "cell_type": "code",
   "execution_count": 30,
   "metadata": {
    "scrolled": true
   },
   "outputs": [
    {
     "data": {
      "text/html": [
       "<div>\n",
       "<style scoped>\n",
       "    .dataframe tbody tr th:only-of-type {\n",
       "        vertical-align: middle;\n",
       "    }\n",
       "\n",
       "    .dataframe tbody tr th {\n",
       "        vertical-align: top;\n",
       "    }\n",
       "\n",
       "    .dataframe thead th {\n",
       "        text-align: right;\n",
       "    }\n",
       "</style>\n",
       "<table border=\"1\" class=\"dataframe\">\n",
       "  <thead>\n",
       "    <tr style=\"text-align: right;\">\n",
       "      <th></th>\n",
       "      <th>m</th>\n",
       "      <th>n</th>\n",
       "    </tr>\n",
       "  </thead>\n",
       "  <tbody>\n",
       "    <tr>\n",
       "      <th>0</th>\n",
       "      <td>2</td>\n",
       "      <td>0</td>\n",
       "    </tr>\n",
       "    <tr>\n",
       "      <th>1</th>\n",
       "      <td>3</td>\n",
       "      <td>1</td>\n",
       "    </tr>\n",
       "    <tr>\n",
       "      <th>2</th>\n",
       "      <td>2</td>\n",
       "      <td>2</td>\n",
       "    </tr>\n",
       "    <tr>\n",
       "      <th>3</th>\n",
       "      <td>2</td>\n",
       "      <td>3</td>\n",
       "    </tr>\n",
       "    <tr>\n",
       "      <th>4</th>\n",
       "      <td>2</td>\n",
       "      <td>4</td>\n",
       "    </tr>\n",
       "  </tbody>\n",
       "</table>\n",
       "</div>"
      ],
      "text/plain": [
       "   m  n\n",
       "0  2  0\n",
       "1  3  1\n",
       "2  2  2\n",
       "3  2  3\n",
       "4  2  4"
      ]
     },
     "execution_count": 30,
     "metadata": {},
     "output_type": "execute_result"
    }
   ],
   "source": [
    "indices[0].head()"
   ]
  },
  {
   "cell_type": "markdown",
   "metadata": {},
   "source": [
    "Function implementing the `match` score. If two cadres have a lot of overlap (i.e., shared observations), their match score will be close to 1. As their amount of overlap decreases, their match score approaches 0."
   ]
  },
  {
   "cell_type": "code",
   "execution_count": 31,
   "metadata": {},
   "outputs": [],
   "source": [
    "def match(cadre_indices_1, cadre_indices_2):\n",
    "    intersection_size = np.intersect1d(cadre_indices_1.values, cadre_indices_2.values).shape[0]\n",
    "    return intersection_size * np.minimum(1 / cadre_indices_1.shape[0], 1 / cadre_indices_2.shape[0])"
   ]
  },
  {
   "cell_type": "markdown",
   "metadata": {},
   "source": [
    "Define a `matches` tensor. `matches[b,m0,m1]` gives the match score between cadre `m0` in the original data and cadre `m1` in the `b`th bootstrap sample."
   ]
  },
  {
   "cell_type": "code",
   "execution_count": 32,
   "metadata": {},
   "outputs": [],
   "source": [
    "matches = np.zeros((nBoot, M, M))"
   ]
  },
  {
   "cell_type": "code",
   "execution_count": 33,
   "metadata": {},
   "outputs": [],
   "source": [
    "for b in range(nBoot):\n",
    "    for m0 in range(M):\n",
    "        for m1 in range(M):\n",
    "            matches[b,m0,m1] = match(indices[0].loc[indices[0]['m'] == m0, 'n'],\n",
    "                                    indices[b+1].loc[indices[b]['m'] == m1, 'n'])"
   ]
  },
  {
   "cell_type": "markdown",
   "metadata": {},
   "source": [
    "Calculate average best match for each cadre in the original dataset."
   ]
  },
  {
   "cell_type": "code",
   "execution_count": 34,
   "metadata": {},
   "outputs": [],
   "source": [
    "avg_best_match = matches.max(axis=2).mean(axis=0)"
   ]
  },
  {
   "cell_type": "code",
   "execution_count": 35,
   "metadata": {},
   "outputs": [
    {
     "data": {
      "text/html": [
       "<div>\n",
       "<style scoped>\n",
       "    .dataframe tbody tr th:only-of-type {\n",
       "        vertical-align: middle;\n",
       "    }\n",
       "\n",
       "    .dataframe tbody tr th {\n",
       "        vertical-align: top;\n",
       "    }\n",
       "\n",
       "    .dataframe thead th {\n",
       "        text-align: right;\n",
       "    }\n",
       "</style>\n",
       "<table border=\"1\" class=\"dataframe\">\n",
       "  <thead>\n",
       "    <tr style=\"text-align: right;\">\n",
       "      <th></th>\n",
       "      <th>m</th>\n",
       "      <th>size</th>\n",
       "      <th>proportion</th>\n",
       "      <th>accuracy</th>\n",
       "      <th>ROC_AUC</th>\n",
       "      <th>PR_AUC</th>\n",
       "      <th>ABM</th>\n",
       "    </tr>\n",
       "  </thead>\n",
       "  <tbody>\n",
       "    <tr>\n",
       "      <th>3</th>\n",
       "      <td>3</td>\n",
       "      <td>70</td>\n",
       "      <td>0.028571</td>\n",
       "      <td>0.971429</td>\n",
       "      <td>0.852941</td>\n",
       "      <td>0.128788</td>\n",
       "      <td>0.262459</td>\n",
       "    </tr>\n",
       "    <tr>\n",
       "      <th>4</th>\n",
       "      <td>4</td>\n",
       "      <td>43</td>\n",
       "      <td>0.837209</td>\n",
       "      <td>0.860465</td>\n",
       "      <td>0.873016</td>\n",
       "      <td>0.975188</td>\n",
       "      <td>0.206466</td>\n",
       "    </tr>\n",
       "    <tr>\n",
       "      <th>2</th>\n",
       "      <td>2</td>\n",
       "      <td>43</td>\n",
       "      <td>0.813953</td>\n",
       "      <td>0.813953</td>\n",
       "      <td>0.800000</td>\n",
       "      <td>0.954883</td>\n",
       "      <td>0.186832</td>\n",
       "    </tr>\n",
       "    <tr>\n",
       "      <th>1</th>\n",
       "      <td>1</td>\n",
       "      <td>14</td>\n",
       "      <td>0.857143</td>\n",
       "      <td>0.857143</td>\n",
       "      <td>0.666667</td>\n",
       "      <td>0.939690</td>\n",
       "      <td>0.124572</td>\n",
       "    </tr>\n",
       "    <tr>\n",
       "      <th>0</th>\n",
       "      <td>0</td>\n",
       "      <td>19</td>\n",
       "      <td>0.105263</td>\n",
       "      <td>0.894737</td>\n",
       "      <td>0.735294</td>\n",
       "      <td>0.350000</td>\n",
       "      <td>0.115800</td>\n",
       "    </tr>\n",
       "    <tr>\n",
       "      <th>5</th>\n",
       "      <td>5</td>\n",
       "      <td>11</td>\n",
       "      <td>0.545455</td>\n",
       "      <td>0.545455</td>\n",
       "      <td>0.333333</td>\n",
       "      <td>0.491703</td>\n",
       "      <td>0.068782</td>\n",
       "    </tr>\n",
       "  </tbody>\n",
       "</table>\n",
       "</div>"
      ],
      "text/plain": [
       "   m  size  proportion  accuracy   ROC_AUC    PR_AUC       ABM\n",
       "3  3    70    0.028571  0.971429  0.852941  0.128788  0.262459\n",
       "4  4    43    0.837209  0.860465  0.873016  0.975188  0.206466\n",
       "2  2    43    0.813953  0.813953  0.800000  0.954883  0.186832\n",
       "1  1    14    0.857143  0.857143  0.666667  0.939690  0.124572\n",
       "0  0    19    0.105263  0.894737  0.735294  0.350000  0.115800\n",
       "5  5    11    0.545455  0.545455  0.333333  0.491703  0.068782"
      ]
     },
     "execution_count": 35,
     "metadata": {},
     "output_type": "execute_result"
    }
   ],
   "source": [
    "scm_best.scoreMetricsCadre(d_te_sc).assign(ABM = pd.Series(avg_best_match, index=np.arange(M))).sort_values('ABM', ascending=False)"
   ]
  },
  {
   "cell_type": "markdown",
   "metadata": {},
   "source": [
    "We see that cadre 3 has the highest average best match (ABM), indicating that it is the most stable, followed by cadres 4 and 2. We can compare these numbers to $ABM$ column of Table III in `arXiv:1802.02500` to see that the cadre structures discovered for this synthetic dataset are much less stable than those discovered in arXiv:1802.02500. To first approximation, this may be a consequence of the fairly low sample size in this dataset and the fairly high number of cadres."
   ]
  },
  {
   "cell_type": "markdown",
   "metadata": {},
   "source": [
    "Finally, we can try to get robust estimates of associations between the target and each feature within a cadre.\n",
    "\n",
    "The procedure for this is:\n",
    "* For each cadre, take many bootstrap samples of the observations assigned to that cadre\n",
    "* For each bootstrap sample, train a LASSO model and extract its coefficients\n",
    "* For each cadre and feature, find a 95% confidence interval for that feature's coefficients over all bootstrap samples\n",
    "* Report whether than interval contains 0"
   ]
  },
  {
   "cell_type": "code",
   "execution_count": 36,
   "metadata": {},
   "outputs": [],
   "source": [
    "d_tr_aug = d_tr_sc.assign(m = scm_best.predictCadre(d_tr_sc))\n",
    "d_te_aug = d_te_sc.assign(m = scm_best.predictCadre(d_te_sc))\n",
    "d_aug = pd.concat([d_tr_aug, d_te_aug])"
   ]
  },
  {
   "cell_type": "code",
   "execution_count": 37,
   "metadata": {},
   "outputs": [],
   "source": [
    "from sklearn.linear_model import LogisticRegression, LogisticRegressionCV"
   ]
  },
  {
   "cell_type": "code",
   "execution_count": 38,
   "metadata": {},
   "outputs": [
    {
     "name": "stderr",
     "output_type": "stream",
     "text": [
      "/home/newa/.conda/envs/my_root/lib/python3.6/site-packages/sklearn/svm/base.py:931: ConvergenceWarning: Liblinear failed to converge, increase the number of iterations.\n",
      "  \"the number of iterations.\", ConvergenceWarning)\n",
      "/home/newa/.conda/envs/my_root/lib/python3.6/site-packages/sklearn/svm/base.py:931: ConvergenceWarning: Liblinear failed to converge, increase the number of iterations.\n",
      "  \"the number of iterations.\", ConvergenceWarning)\n"
     ]
    }
   ],
   "source": [
    "all_coefs = np.zeros((nBoot, M, features.shape[0]))\n",
    "\n",
    "for mm in range(M):\n",
    "    data_m = d_aug.loc[d_aug['m'] == mm,:]\n",
    "    ## quick cross validation to find best C\n",
    "    logreg_cv = LogisticRegressionCV(penalty='l1', scoring='neg_log_loss', solver='liblinear', cv=5)\n",
    "    logreg_cv.fit(data_m[features].values, data_m['target'].values)\n",
    "    \n",
    "    for b in range(nBoot):\n",
    "        d_m_b = data_m.sample(frac=1, random_state=b, replace=True)\n",
    "        log_reg = LogisticRegression(penalty='l1', solver='liblinear', C=logreg_cv.C_[0])\n",
    "        log_reg.fit(d_m_b[features].values, d_m_b['target'].values)\n",
    "        all_coefs[b,mm,:] = np.squeeze(log_reg.coef_)"
   ]
  },
  {
   "cell_type": "markdown",
   "metadata": {},
   "source": [
    "Calculate the lower and upper bounds of a 95% confidence interval over the bootstrap samples."
   ]
  },
  {
   "cell_type": "code",
   "execution_count": 39,
   "metadata": {},
   "outputs": [],
   "source": [
    "quantiles = np.quantile(all_coefs, (0.025, 0.975), 0)"
   ]
  },
  {
   "cell_type": "markdown",
   "metadata": {},
   "source": [
    "If `zero_status[p,m] = 1`, then the 95% confidence interval for the `p`th feature's logistic regression coefficient within the `m`th cadre did not contain 0. If `zero_status[p,m] = 0`, then the interval contained 0."
   ]
  },
  {
   "cell_type": "code",
   "execution_count": 40,
   "metadata": {},
   "outputs": [],
   "source": [
    "zero_status = np.ones((features.shape[0], M))"
   ]
  },
  {
   "cell_type": "code",
   "execution_count": 41,
   "metadata": {},
   "outputs": [],
   "source": [
    "for mm in range(M):\n",
    "    for p in range(features.shape[0]):\n",
    "        low_bound, up_bound = quantiles[:,mm,p]\n",
    "        if low_bound < 0 and up_bound > 0:\n",
    "            zero_status[p,mm] = 0\n",
    "zero_status = pd.DataFrame(zero_status, index=features)"
   ]
  },
  {
   "cell_type": "markdown",
   "metadata": {},
   "source": [
    "Heatmap of findings. Cadre 3 has the densest model -- none of its coefficients' confidence intervals contained zero. "
   ]
  },
  {
   "cell_type": "code",
   "execution_count": 42,
   "metadata": {},
   "outputs": [
    {
     "data": {
      "text/plain": [
       "<matplotlib.axes._subplots.AxesSubplot at 0x7ff219fa2f98>"
      ]
     },
     "execution_count": 42,
     "metadata": {},
     "output_type": "execute_result"
    },
    {
     "data": {
      "image/png": "[encoded data removed]",
      "text/plain": [
       "<Figure size 432x288 with 2 Axes>"
      ]
     },
     "metadata": {},
     "output_type": "display_data"
    }
   ],
   "source": [
    "sns.heatmap(zero_status, cmap='RdYlGn_r')"
   ]
  }
 ],
 "metadata": {
  "kernelspec": {
   "display_name": "Python [conda env:my_root]",
   "language": "python",
   "name": "conda-env-my_root-py"
  },
  "language_info": {
   "codemirror_mode": {
    "name": "ipython",
    "version": 3
   },
   "file_extension": ".py",
   "mimetype": "text/x-python",
   "name": "python",
   "nbconvert_exporter": "python",
   "pygments_lexer": "ipython3",
   "version": "3.6.8"
  }
 },
 "nbformat": 4,
 "nbformat_minor": 2
}
