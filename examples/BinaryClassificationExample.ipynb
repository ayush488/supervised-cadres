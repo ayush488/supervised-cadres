{
 "cells": [
  {
   "cell_type": "markdown",
   "metadata": {},
   "source": [
    "In this notebook, we're going to generate some synthetic binary classification data and show how to train supervised cadre models (SCM) on it. We'll train a model with the default parameters, and then we'll show how we can use cross-validation for hyperparameter tuning to get better performance.\n",
    "\n",
    "THIS NOTEBOOK IS INCOMPLETE"
   ]
  },
  {
   "cell_type": "code",
   "execution_count": 1,
   "metadata": {},
   "outputs": [],
   "source": [
    "import numpy as np\n",
    "import pandas as pd\n",
    "import sys\n",
    "import matplotlib.pyplot as plt\n",
    "import seaborn as sns\n",
    "\n",
    "sys.path.insert(0, '../cadreModels')\n",
    "\n",
    "from classificationBinary import binaryCadreModel\n",
    "from sklearn.datasets import make_classification\n",
    "from scipy.stats import zscore, zmap\n",
    "\n",
    "from sklearn.model_selection import train_test_split"
   ]
  },
  {
   "cell_type": "code",
   "execution_count": 2,
   "metadata": {},
   "outputs": [],
   "source": [
    "%load_ext autoreload\n",
    "%autoreload 2"
   ]
  },
  {
   "cell_type": "code",
   "execution_count": 3,
   "metadata": {},
   "outputs": [],
   "source": [
    "sns.set_style('darkgrid')"
   ]
  },
  {
   "cell_type": "markdown",
   "metadata": {},
   "source": [
    "Generate data with the `sklearn.datasets.make_classification` function. Bind `X` and `y` into a `pd.DataFrame`."
   ]
  },
  {
   "cell_type": "code",
   "execution_count": 11,
   "metadata": {},
   "outputs": [],
   "source": [
    "X, y = make_classification(n_samples=50000, random_state=2125615, n_clusters_per_class=10, \n",
    "                           n_features=50, n_informative=25, n_repeated=15)\n",
    "\n",
    "data = pd.DataFrame(X)\n",
    "data.columns = ['f'+str(p) for p in data.columns]\n",
    "data = data.assign(target=y)\n",
    "features = data.columns[data.columns != 'target']"
   ]
  },
  {
   "cell_type": "code",
   "execution_count": 12,
   "metadata": {},
   "outputs": [
    {
     "data": {
      "text/html": [
       "<div>\n",
       "<style scoped>\n",
       "    .dataframe tbody tr th:only-of-type {\n",
       "        vertical-align: middle;\n",
       "    }\n",
       "\n",
       "    .dataframe tbody tr th {\n",
       "        vertical-align: top;\n",
       "    }\n",
       "\n",
       "    .dataframe thead th {\n",
       "        text-align: right;\n",
       "    }\n",
       "</style>\n",
       "<table border=\"1\" class=\"dataframe\">\n",
       "  <thead>\n",
       "    <tr style=\"text-align: right;\">\n",
       "      <th></th>\n",
       "      <th>f0</th>\n",
       "      <th>f1</th>\n",
       "      <th>f2</th>\n",
       "      <th>f3</th>\n",
       "      <th>f4</th>\n",
       "      <th>f5</th>\n",
       "      <th>f6</th>\n",
       "      <th>f7</th>\n",
       "      <th>f8</th>\n",
       "      <th>f9</th>\n",
       "      <th>...</th>\n",
       "      <th>f41</th>\n",
       "      <th>f42</th>\n",
       "      <th>f43</th>\n",
       "      <th>f44</th>\n",
       "      <th>f45</th>\n",
       "      <th>f46</th>\n",
       "      <th>f47</th>\n",
       "      <th>f48</th>\n",
       "      <th>f49</th>\n",
       "      <th>target</th>\n",
       "    </tr>\n",
       "  </thead>\n",
       "  <tbody>\n",
       "    <tr>\n",
       "      <th>0</th>\n",
       "      <td>-0.562447</td>\n",
       "      <td>-4.496746</td>\n",
       "      <td>-4.496746</td>\n",
       "      <td>0.523007</td>\n",
       "      <td>5.937111</td>\n",
       "      <td>0.628727</td>\n",
       "      <td>0.261670</td>\n",
       "      <td>-3.003903</td>\n",
       "      <td>0.523007</td>\n",
       "      <td>2.877445</td>\n",
       "      <td>...</td>\n",
       "      <td>2.169409</td>\n",
       "      <td>4.228746</td>\n",
       "      <td>-2.491846</td>\n",
       "      <td>0.389091</td>\n",
       "      <td>-1.462236</td>\n",
       "      <td>-1.188389</td>\n",
       "      <td>0.389091</td>\n",
       "      <td>5.371964</td>\n",
       "      <td>0.523007</td>\n",
       "      <td>1</td>\n",
       "    </tr>\n",
       "    <tr>\n",
       "      <th>1</th>\n",
       "      <td>-0.466490</td>\n",
       "      <td>1.704545</td>\n",
       "      <td>1.704545</td>\n",
       "      <td>1.158476</td>\n",
       "      <td>-0.013365</td>\n",
       "      <td>0.751370</td>\n",
       "      <td>-2.209397</td>\n",
       "      <td>2.166053</td>\n",
       "      <td>1.158476</td>\n",
       "      <td>0.362309</td>\n",
       "      <td>...</td>\n",
       "      <td>-1.412764</td>\n",
       "      <td>0.007301</td>\n",
       "      <td>-4.074863</td>\n",
       "      <td>3.412430</td>\n",
       "      <td>-1.229256</td>\n",
       "      <td>-3.037757</td>\n",
       "      <td>3.412430</td>\n",
       "      <td>-5.643174</td>\n",
       "      <td>1.158476</td>\n",
       "      <td>1</td>\n",
       "    </tr>\n",
       "    <tr>\n",
       "      <th>2</th>\n",
       "      <td>0.950077</td>\n",
       "      <td>3.122326</td>\n",
       "      <td>3.122326</td>\n",
       "      <td>-0.534232</td>\n",
       "      <td>-3.825865</td>\n",
       "      <td>-1.757176</td>\n",
       "      <td>1.554950</td>\n",
       "      <td>0.632377</td>\n",
       "      <td>-0.534232</td>\n",
       "      <td>3.675752</td>\n",
       "      <td>...</td>\n",
       "      <td>-1.114574</td>\n",
       "      <td>0.188603</td>\n",
       "      <td>2.145846</td>\n",
       "      <td>3.929885</td>\n",
       "      <td>-7.317242</td>\n",
       "      <td>-4.200953</td>\n",
       "      <td>3.929885</td>\n",
       "      <td>-4.407239</td>\n",
       "      <td>-0.534232</td>\n",
       "      <td>0</td>\n",
       "    </tr>\n",
       "    <tr>\n",
       "      <th>3</th>\n",
       "      <td>0.896450</td>\n",
       "      <td>1.962297</td>\n",
       "      <td>1.962297</td>\n",
       "      <td>5.707130</td>\n",
       "      <td>-3.910068</td>\n",
       "      <td>1.387582</td>\n",
       "      <td>3.167782</td>\n",
       "      <td>5.575011</td>\n",
       "      <td>5.707130</td>\n",
       "      <td>-0.543254</td>\n",
       "      <td>...</td>\n",
       "      <td>1.480521</td>\n",
       "      <td>4.057712</td>\n",
       "      <td>0.410260</td>\n",
       "      <td>2.630305</td>\n",
       "      <td>7.187664</td>\n",
       "      <td>3.307076</td>\n",
       "      <td>2.630305</td>\n",
       "      <td>2.483412</td>\n",
       "      <td>5.707130</td>\n",
       "      <td>0</td>\n",
       "    </tr>\n",
       "    <tr>\n",
       "      <th>4</th>\n",
       "      <td>-0.032346</td>\n",
       "      <td>2.897824</td>\n",
       "      <td>2.897824</td>\n",
       "      <td>-0.938040</td>\n",
       "      <td>1.600827</td>\n",
       "      <td>1.681539</td>\n",
       "      <td>2.033267</td>\n",
       "      <td>-1.647245</td>\n",
       "      <td>-0.938040</td>\n",
       "      <td>0.065656</td>\n",
       "      <td>...</td>\n",
       "      <td>2.976090</td>\n",
       "      <td>6.443671</td>\n",
       "      <td>1.234381</td>\n",
       "      <td>1.099088</td>\n",
       "      <td>7.176274</td>\n",
       "      <td>-2.604756</td>\n",
       "      <td>1.099088</td>\n",
       "      <td>-1.910424</td>\n",
       "      <td>-0.938040</td>\n",
       "      <td>1</td>\n",
       "    </tr>\n",
       "  </tbody>\n",
       "</table>\n",
       "<p>5 rows × 51 columns</p>\n",
       "</div>"
      ],
      "text/plain": [
       "         f0        f1        f2        f3        f4        f5        f6  \\\n",
       "0 -0.562447 -4.496746 -4.496746  0.523007  5.937111  0.628727  0.261670   \n",
       "1 -0.466490  1.704545  1.704545  1.158476 -0.013365  0.751370 -2.209397   \n",
       "2  0.950077  3.122326  3.122326 -0.534232 -3.825865 -1.757176  1.554950   \n",
       "3  0.896450  1.962297  1.962297  5.707130 -3.910068  1.387582  3.167782   \n",
       "4 -0.032346  2.897824  2.897824 -0.938040  1.600827  1.681539  2.033267   \n",
       "\n",
       "         f7        f8        f9   ...         f41       f42       f43  \\\n",
       "0 -3.003903  0.523007  2.877445   ...    2.169409  4.228746 -2.491846   \n",
       "1  2.166053  1.158476  0.362309   ...   -1.412764  0.007301 -4.074863   \n",
       "2  0.632377 -0.534232  3.675752   ...   -1.114574  0.188603  2.145846   \n",
       "3  5.575011  5.707130 -0.543254   ...    1.480521  4.057712  0.410260   \n",
       "4 -1.647245 -0.938040  0.065656   ...    2.976090  6.443671  1.234381   \n",
       "\n",
       "        f44       f45       f46       f47       f48       f49  target  \n",
       "0  0.389091 -1.462236 -1.188389  0.389091  5.371964  0.523007       1  \n",
       "1  3.412430 -1.229256 -3.037757  3.412430 -5.643174  1.158476       1  \n",
       "2  3.929885 -7.317242 -4.200953  3.929885 -4.407239 -0.534232       0  \n",
       "3  2.630305  7.187664  3.307076  2.630305  2.483412  5.707130       0  \n",
       "4  1.099088  7.176274 -2.604756  1.099088 -1.910424 -0.938040       1  \n",
       "\n",
       "[5 rows x 51 columns]"
      ]
     },
     "execution_count": 12,
     "metadata": {},
     "output_type": "execute_result"
    }
   ],
   "source": [
    "data.head()"
   ]
  },
  {
   "cell_type": "markdown",
   "metadata": {},
   "source": [
    "Since the features are continuous, we should standardize them."
   ]
  },
  {
   "cell_type": "code",
   "execution_count": 13,
   "metadata": {},
   "outputs": [
    {
     "name": "stderr",
     "output_type": "stream",
     "text": [
      "/home/newa/.conda/envs/my_root/lib/python3.6/site-packages/ipykernel/__main__.py:3: SettingWithCopyWarning: \n",
      "A value is trying to be set on a copy of a slice from a DataFrame.\n",
      "Try using .loc[row_indexer,col_indexer] = value instead\n",
      "\n",
      "See the caveats in the documentation: http://pandas.pydata.org/pandas-docs/stable/indexing.html#indexing-view-versus-copy\n",
      "  app.launch_new_instance()\n",
      "/home/newa/.conda/envs/my_root/lib/python3.6/site-packages/pandas/core/indexing.py:537: SettingWithCopyWarning: \n",
      "A value is trying to be set on a copy of a slice from a DataFrame.\n",
      "Try using .loc[row_indexer,col_indexer] = value instead\n",
      "\n",
      "See the caveats in the documentation: http://pandas.pydata.org/pandas-docs/stable/indexing.html#indexing-view-versus-copy\n",
      "  self.obj[item] = s\n",
      "/home/newa/.conda/envs/my_root/lib/python3.6/site-packages/ipykernel/__main__.py:4: SettingWithCopyWarning: \n",
      "A value is trying to be set on a copy of a slice from a DataFrame.\n",
      "Try using .loc[row_indexer,col_indexer] = value instead\n",
      "\n",
      "See the caveats in the documentation: http://pandas.pydata.org/pandas-docs/stable/indexing.html#indexing-view-versus-copy\n"
     ]
    }
   ],
   "source": [
    "D_tr, D_va = train_test_split(data, test_size=0.2, random_state=313616)\n",
    "\n",
    "D_va[features] = zmap(D_va[features], D_tr[features])\n",
    "D_tr[features] = zscore(D_tr[features])"
   ]
  },
  {
   "cell_type": "markdown",
   "metadata": {},
   "source": [
    "A `binaryCadreModel`'s initialization function takes the following arguments and default values:\n",
    "\n",
    "* `M=2` -- number of cadres in model\n",
    "* `gamma=10.` -- cadre-assignment sharpness\n",
    "* `lambda_d=0.01` -- regularization strength for cadre-assignment weight parameter `d`\n",
    "* `lambda_W=0.01` -- regularization strength for classification-weight parameter `W`\n",
    "* `alpha_d=0.9` -- elastic net mixing weight for cadre-assignment weight parameter `d`\n",
    "* `alpha_W=0.9` -- elastic net mixing with for classification-weight parameter `W`\n",
    "* `Tmax=10000` -- maximum number of SGD steps to take\n",
    "* `record=100` -- during training, how often goodness-of-fit metrics should be evaluated on the data\n",
    "* `eta=2e-3` -- initial stepsize / learning rate\n",
    "* `Nba=64` -- minibatch size\n",
    "* `eps=1e-3` -- convergence tolerance\n",
    "* `termination_metric='ROC_AUC'` -- training terminated if the difference between the most recent `termination_metric` value and the second most recent `termination_metric` is less than `eps`"
   ]
  },
  {
   "cell_type": "markdown",
   "metadata": {},
   "source": [
    "Once you initialize a `binaryCadreModel`, you apply the `fit` method to train it. This method takes the following arguments and default values:\n",
    "\n",
    "* `data` -- `pd.DataFrame` of training data\n",
    "* `targetCol` -- string column-name of target feature in `data`\n",
    "* `cadreFts=None` -- `pd.Index` of column-names used for cadre-assignment\n",
    "* `predictFts=None` -- `pd.Index` of column-names used for target-prediction\n",
    "* `dataVa=None` -- optional `pd.DataFrame` of validation data \n",
    "* `seed=16162` -- seed for parameter initialization and minibatch generation\n",
    "* `store=False` -- whether or not copies `data` and `dataVa` should be added as attributes of the `binaryCadreModel`\n",
    "* `progress=False` -- whether or not goodness-of-fit metrics should be printed during training"
   ]
  },
  {
   "cell_type": "markdown",
   "metadata": {},
   "source": [
    "Other attributes of the `binaryCadreModel` include:\n",
    "\n",
    "* `W` -- matrix of cadre-specific classification weights\n",
    "* `W0` -- vector of cadre-specific classification biases\n",
    "* `C` -- matrix of cadre centers\n",
    "* `d` -- vector of cadre-assignments weights\n",
    "* `metrics` -- a `dict` with `'training'` and `'validation'` as keys. Each item is a `pd.DataFrame` of goodness-of-fit metrics evaluated during training. Metrics include loss, accuracy, ROC AUC, and precision-recall (PR) AUC\n",
    "* `time` -- list of computer-time values it took for each SGD step to be evaluated\n",
    "* `proportions` -- during training, the proportion of the training data assigned to each cadre is recorded. This is a `pd.DataFrame` of those proportions, which lets you see if cadre assignments have converged to a stable distribution."
   ]
  },
  {
   "cell_type": "code",
   "execution_count": 31,
   "metadata": {
    "scrolled": true
   },
   "outputs": [
    {
     "name": "stdout",
     "output_type": "stream",
     "text": [
      "numbers being printed: SGD iteration, training loss, training accuracy, validation loss, validation accuracy, time\n",
      "0\n",
      "50 1.288237 0.513625 1.2925402 0.5142 0.14185380935668945\n",
      "100 1.1990836 0.532425 1.2039498 0.5328 9.189023494720459\n",
      "150 1.1659858 0.54215 1.1708246 0.541 17.90015459060669\n",
      "200 1.1448362 0.5495 1.149663 0.549 26.470364809036255\n",
      "250 1.1292944 0.55415 1.1338947 0.5566 35.697067737579346\n",
      "300 1.1158237 0.55935 1.1206491 0.5601 44.20123219490051\n",
      "350 1.1042295 0.56345 1.1093773 0.5639 52.90781283378601\n",
      "400 1.0942712 0.567925 1.0994487 0.5675 61.72323799133301\n",
      "450 1.0864356 0.57165 1.091562 0.5711 70.78901958465576\n",
      "500 1.0792034 0.57505 1.0843984 0.574 79.52588558197021\n",
      "550 1.0727972 0.578875 1.0780281 0.5766 88.73291277885437\n",
      "600 1.0668609 0.5817 1.0722369 0.5783 97.6637442111969\n",
      "650 1.0614837 0.5845 1.0667832 0.5796 106.30814409255981\n",
      "700 1.0566071 0.5866 1.0619483 0.5833 114.96048521995544\n",
      "750 1.052408 0.5897 1.0577037 0.5864 124.28458523750305\n",
      "800 1.0483716 0.592525 1.0536852 0.5881 133.26031279563904\n",
      "850 1.0447413 0.595575 1.0500544 0.5908 141.77846145629883\n",
      "900 1.0413294 0.597875 1.0465455 0.5934 150.94476747512817\n",
      "950 1.0380217 0.599775 1.0432009 0.5964 159.52575039863586\n",
      "1000 1.0349216 0.60165 1.0400796 0.5985 168.33046650886536\n",
      "1050 1.0323755 0.604025 1.0375714 0.5995 177.44687747955322\n",
      "1100 1.0296246 0.60555 1.0348533 0.6016 186.37851881980896\n",
      "1150 1.0270822 0.6078 1.0322746 0.6031 194.9555995464325\n",
      "1200 1.0246778 0.60945 1.0298563 0.604 204.10299634933472\n",
      "1250 1.0223279 0.6117 1.0274613 0.6058 213.2578423023224\n",
      "1300 1.0200332 0.613825 1.0250982 0.6077 222.5194013118744\n",
      "1350 1.0179243 0.615575 1.0229827 0.6083 231.41509699821472\n",
      "1400 1.0160807 0.617025 1.0211067 0.6105 240.64003992080688\n",
      "1450 1.0141262 0.61875 1.0190864 0.6118 248.93586444854736\n",
      "1500 1.012238 0.620225 1.0171646 0.6134 257.7280068397522\n",
      "1550 1.0104969 0.621825 1.0154326 0.6153 266.37460923194885\n",
      "1600 1.0087944 0.623725 1.0137043 0.617 275.3814024925232\n",
      "1650 1.0072832 0.624825 1.0121834 0.6189 283.6976099014282\n",
      "1700 1.005827 0.625925 1.0107069 0.62 292.6685793399811\n",
      "1750 1.0044528 0.62705 1.0093428 0.6212 301.2104766368866\n",
      "1800 1.0030496 0.628175 1.0079284 0.6229 310.54888010025024\n",
      "1850 1.0017303 0.628975 1.0066137 0.6235 318.8654386997223\n",
      "1900 1.0003997 0.630025 1.005286 0.625 327.29001808166504\n",
      "1950 0.99921066 0.631175 1.0040947 0.6264 337.0060076713562\n",
      "2000 0.99799675 0.633175 1.002843 0.6278 345.7316551208496\n",
      "2050 0.99684197 0.634325 1.001675 0.6285 355.3287513256073\n",
      "2100 0.9957298 0.63595 1.000514 0.6296 364.0840744972229\n",
      "2150 0.9946818 0.637275 0.9994772 0.6295 372.81398248672485\n",
      "2200 0.99362725 0.637875 0.9984086 0.6308 381.89607787132263\n",
      "2250 0.9926818 0.639425 0.9974388 0.6311 390.4885561466217\n",
      "2300 0.991707 0.640575 0.99644864 0.6319 399.03251671791077\n",
      "2350 0.99076337 0.64165 0.99545914 0.6335 408.91429448127747\n",
      "2400 0.98984563 0.642675 0.99448824 0.6343 417.5389828681946\n",
      "2450 0.9888893 0.643825 0.9935155 0.6367 426.5695471763611\n",
      "2500 0.98807424 0.644975 0.9926961 0.6378 435.3858027458191\n",
      "2550 0.9872858 0.646225 0.9919331 0.6382 443.7420470714569\n",
      "2600 0.9865043 0.6471 0.9911076 0.6393 452.53444385528564\n",
      "2650 0.9857496 0.64775 0.9902792 0.6399 461.43388295173645\n",
      "2700 0.98501575 0.6486 0.9894752 0.6415 470.4627914428711\n",
      "2750 0.98429674 0.649525 0.98872244 0.6429 479.8384299278259\n",
      "2800 0.98362756 0.650275 0.98801446 0.6436 488.2810866832733\n",
      "2850 0.9828959 0.651225 0.98723567 0.6449 496.6718821525574\n",
      "2900 0.9821792 0.65235 0.9865061 0.6452 506.0599670410156\n",
      "2950 0.98149186 0.653 0.985788 0.647 514.6780726909637\n",
      "3000 0.9809263 0.6536 0.985236 0.6464 523.6518363952637\n",
      "3050 0.98032063 0.654625 0.98458093 0.647 532.217800617218\n",
      "3100 0.97970605 0.65555 0.9839431 0.6476 541.3141186237335\n",
      "3150 0.9790987 0.656675 0.9833393 0.6488 550.2054755687714\n",
      "3200 0.9785043 0.657175 0.98274124 0.6497 558.6106357574463\n",
      "3250 0.9779595 0.6575 0.98212767 0.6505 567.4877240657806\n",
      "3300 0.9775164 0.658575 0.9816902 0.6506 575.9821050167084\n",
      "3350 0.9769913 0.6593 0.98113245 0.6524 584.440657377243\n",
      "3400 0.97645444 0.65975 0.98053265 0.6524 592.8166754245758\n",
      "3450 0.97599727 0.660675 0.9800705 0.6525 602.1962003707886\n",
      "3500 0.9755682 0.66125 0.9796446 0.6528 610.6343746185303\n",
      "3550 0.9751344 0.662075 0.9791779 0.6541 619.357428073883\n",
      "3600 0.97470874 0.662125 0.9787197 0.6539 628.0848524570465\n",
      "3650 0.9742703 0.662475 0.9782579 0.6548 636.531005859375\n",
      "3700 0.9738259 0.663125 0.977863 0.6546 645.4348542690277\n",
      "3750 0.97345614 0.664075 0.9774945 0.655 653.973105430603\n",
      "3800 0.9730074 0.66435 0.97704977 0.6551 663.1063761711121\n",
      "3850 0.972652 0.665 0.9766611 0.6561 671.6704185009003\n",
      "3900 0.9721992 0.665625 0.97615993 0.6561 680.1915466785431\n",
      "3950 0.9718347 0.66635 0.9757752 0.6562 689.1092147827148\n",
      "4000 0.9714731 0.66695 0.9753976 0.6574 698.172091960907\n",
      "4050 0.97103745 0.667325 0.9749521 0.6585 707.1431872844696\n",
      "4100 0.9706575 0.6682 0.97458744 0.659 716.2109007835388\n",
      "4150 0.97035253 0.66845 0.9742874 0.6599 724.5115075111389\n",
      "4200 0.97002 0.668325 0.9739375 0.6605 734.2844066619873\n",
      "4250 0.9696444 0.66905 0.9735747 0.6602 742.7824578285217\n",
      "4300 0.96930444 0.669225 0.9732428 0.6612 751.7060444355011\n",
      "4350 0.9690239 0.669375 0.9729791 0.6611 760.4057700634003\n",
      "4400 0.9687094 0.669875 0.97268856 0.6619 769.17089676857\n",
      "4450 0.96836025 0.67065 0.97236466 0.6614 777.64892578125\n",
      "4500 0.9680557 0.67145 0.97206664 0.6622 786.0540461540222\n",
      "4550 0.9677548 0.671675 0.9717606 0.6626 795.1718821525574\n",
      "4600 0.9674275 0.672375 0.97140765 0.6627 804.6273522377014\n",
      "4650 0.96713054 0.672975 0.9711316 0.663 813.3492317199707\n",
      "4700 0.96682364 0.673125 0.9708128 0.664 822.048308134079\n",
      "4750 0.9665529 0.67385 0.9705233 0.6636 830.470988035202\n",
      "4800 0.9663283 0.673775 0.9702882 0.6642 838.846152305603\n",
      "4850 0.9660025 0.67425 0.96994096 0.6643 847.2555768489838\n",
      "4900 0.9657806 0.6746 0.96972555 0.665 856.4699075222015\n",
      "4950 0.96560335 0.67475 0.9695504 0.6654 864.8316791057587\n",
      "5000 0.9653959 0.675175 0.9693376 0.665 873.33620429039\n",
      "5050 0.9651419 0.6756 0.969048 0.6652 882.2373132705688\n",
      "5100 0.9648799 0.6763 0.9688036 0.665 891.4066605567932\n",
      "5150 0.96465045 0.67685 0.9685566 0.6651 900.0234642028809\n",
      "5200 0.9644629 0.67715 0.9683333 0.666 908.7166907787323\n",
      "5250 0.9642723 0.677225 0.968139 0.6664 918.0202083587646\n",
      "5300 0.964051 0.67755 0.9679153 0.6666 926.8344130516052\n",
      "5350 0.9638361 0.677675 0.96769243 0.6666 935.7114970684052\n",
      "5400 0.9636404 0.678025 0.96747375 0.6666 944.7370808124542\n",
      "5450 0.96342784 0.6784 0.9672417 0.6672 953.8375508785248\n",
      "5500 0.96316594 0.67845 0.9669855 0.6679 963.4697365760803\n",
      "5550 0.96291745 0.678825 0.9667212 0.6688 972.977952003479\n",
      "5600 0.96268576 0.67935 0.9664618 0.6688 982.434357881546\n",
      "5650 0.96245587 0.6796 0.96622026 0.6691 990.6918468475342\n",
      "5700 0.9622621 0.6799 0.9660011 0.6686 999.2325668334961\n",
      "5750 0.9620203 0.6799 0.9657238 0.67 1008.4972679615021\n",
      "5800 0.96175873 0.680725 0.96544594 0.6704 1016.8431799411774\n",
      "5850 0.96151894 0.68105 0.96516895 0.6702 1025.3337309360504\n",
      "5900 0.9612749 0.681225 0.96491855 0.6708 1034.0682499408722\n",
      "5950 0.96099806 0.6815 0.9646047 0.6705 1042.5323531627655\n",
      "6000 0.9608024 0.68165 0.96439683 0.6704 1052.4122006893158\n",
      "6050 0.9606092 0.681975 0.9641818 0.6706 1061.3799757957458\n",
      "6100 0.9604359 0.68205 0.96401316 0.6712 1070.012930393219\n",
      "6150 0.9602685 0.68225 0.96384925 0.6711 1078.7413301467896\n",
      "6200 0.9600896 0.682525 0.9636567 0.6712 1087.5036206245422\n",
      "6250 0.95988774 0.683175 0.9634475 0.6715 1096.2832465171814\n",
      "6300 0.95965767 0.683525 0.96320957 0.6718 1105.004390001297\n",
      "6350 0.9594455 0.6843 0.96298707 0.6716 1114.182076215744\n",
      "6400 0.959247 0.684475 0.9627753 0.6712 1122.835265159607\n",
      "6450 0.95907104 0.68495 0.9625517 0.6723 1132.1426393985748\n",
      "6500 0.95891213 0.68525 0.9623973 0.6728 1140.8013939857483\n",
      "6550 0.95878005 0.6853 0.96226716 0.6732 1150.1309752464294\n",
      "6600 0.95859927 0.6857 0.9620692 0.6737 1158.9034349918365\n",
      "6650 0.95840704 0.685975 0.961864 0.6736 1167.5092477798462\n",
      "6700 0.9582292 0.685925 0.961705 0.6741 1176.100831747055\n",
      "6750 0.95806575 0.6864 0.9615461 0.6739 1185.0702171325684\n",
      "6800 0.95785904 0.6868 0.9613209 0.6748 1194.2228472232819\n",
      "6850 0.95768875 0.686925 0.9611187 0.6748 1203.398520708084\n",
      "6900 0.9575151 0.68675 0.96092933 0.6752 1212.4367580413818\n"
     ]
    },
    {
     "name": "stdout",
     "output_type": "stream",
     "text": [
      "6950 0.9573653 0.6871 0.96078324 0.6753 1220.772142648697\n",
      "7000 0.9572366 0.687025 0.96065605 0.6757 1229.5448822975159\n",
      "7050 0.9571382 0.6876 0.9605405 0.6763 1237.9231631755829\n",
      "7100 0.956996 0.687175 0.9603725 0.6763 1247.3230185508728\n",
      "7150 0.9568698 0.68775 0.9602403 0.6756 1256.0553977489471\n",
      "7200 0.9567338 0.6879 0.9601177 0.6764 1264.8121948242188\n",
      "7250 0.9566101 0.68795 0.960002 0.6758 1273.352855205536\n",
      "7300 0.95647854 0.688375 0.9598349 0.6756 1282.426216840744\n",
      "7350 0.95629835 0.6884 0.959671 0.6767 1291.281670331955\n",
      "7400 0.9561332 0.68865 0.9595088 0.6762 1300.2104437351227\n",
      "7450 0.9560284 0.688525 0.9593906 0.6766 1309.1972057819366\n",
      "7500 0.955919 0.688825 0.9592451 0.6767 1318.74321103096\n",
      "7550 0.9557954 0.6888 0.9591123 0.677 1327.9070074558258\n",
      "7600 0.9556738 0.689025 0.9589948 0.6769 1336.4240856170654\n",
      "7650 0.9555502 0.68925 0.9588586 0.6772 1345.8544471263885\n",
      "7700 0.95542735 0.689325 0.9587213 0.6771 1355.1702570915222\n",
      "7750 0.9553195 0.689825 0.9586153 0.6775 1364.1958582401276\n",
      "7800 0.95526695 0.68975 0.95857847 0.678 1373.4380345344543\n",
      "7850 0.95513564 0.690275 0.95842963 0.6784 1382.5840711593628\n",
      "7900 0.9550317 0.6907 0.9582946 0.6784 1390.82306432724\n",
      "7950 0.95487154 0.6909 0.9581331 0.679 1399.2408821582794\n",
      "8000 0.9547474 0.691 0.95800465 0.6798 1407.9414386749268\n",
      "8050 0.9546452 0.691175 0.9579082 0.6805 1417.0918049812317\n",
      "8100 0.95453024 0.6914 0.9577738 0.6814 1425.523975610733\n",
      "8150 0.9543991 0.6917 0.9576211 0.6817 1434.2828197479248\n",
      "8200 0.9542743 0.6918 0.957485 0.6817 1443.3075590133667\n",
      "8250 0.95415115 0.691975 0.9573625 0.6818 1452.499807357788\n",
      "8300 0.9540343 0.69225 0.95724833 0.6814 1461.193729877472\n",
      "8350 0.95391595 0.69235 0.95713747 0.6813 1470.3599185943604\n",
      "8400 0.9537837 0.69225 0.95700383 0.6818 1479.0068099498749\n",
      "8450 0.9536743 0.692225 0.9568942 0.6831 1487.4471518993378\n",
      "8500 0.9535792 0.69235 0.9567808 0.6833 1495.7514753341675\n",
      "8550 0.9534584 0.692375 0.95665115 0.6832 1504.739066362381\n",
      "8600 0.95336837 0.692175 0.9565653 0.6832 1513.8375070095062\n",
      "8650 0.95325094 0.69255 0.9564197 0.6839 1523.2519512176514\n",
      "8700 0.9531455 0.692625 0.9563178 0.6841 1531.9211909770966\n",
      "training has terminated because: lack of sufficient decrease in validation ROC_AUC\n"
     ]
    },
    {
     "data": {
      "text/plain": [
       "<classificationBinary.binaryCadreModel at 0x7f6013747400>"
      ]
     },
     "execution_count": 31,
     "metadata": {},
     "output_type": "execute_result"
    }
   ],
   "source": [
    "scm = binaryCadreModel(Tmax=15001, record=50, eps=1e-4, lambda_W=1e-3, lambda_d=1e-3, M=10)\n",
    "scm.fit(D_tr, 'target', features, features, D_va, progress=True)"
   ]
  },
  {
   "cell_type": "code",
   "execution_count": 36,
   "metadata": {},
   "outputs": [
    {
     "data": {
      "text/plain": [
       "<matplotlib.axes._subplots.AxesSubplot at 0x7f601318ef98>"
      ]
     },
     "execution_count": 36,
     "metadata": {},
     "output_type": "execute_result"
    },
    {
     "data": {
      "image/png": "[encoded data removed]",
      "text/plain": [
       "<Figure size 432x288 with 1 Axes>"
      ]
     },
     "metadata": {},
     "output_type": "display_data"
    }
   ],
   "source": [
    "scm.metrics['validation'].drop('loss', axis=1).plot()"
   ]
  },
  {
   "cell_type": "code",
   "execution_count": 33,
   "metadata": {},
   "outputs": [
    {
     "data": {
      "text/plain": [
       "<matplotlib.axes._subplots.AxesSubplot at 0x7f5fb86a6668>"
      ]
     },
     "execution_count": 33,
     "metadata": {},
     "output_type": "execute_result"
    },
    {
     "data": {
      "image/png": "[encoded data removed]",
      "text/plain": [
       "<Figure size 432x288 with 1 Axes>"
      ]
     },
     "metadata": {},
     "output_type": "display_data"
    }
   ],
   "source": [
    "scm.metrics['training']['loss'].plot()"
   ]
  },
  {
   "cell_type": "code",
   "execution_count": 32,
   "metadata": {},
   "outputs": [
    {
     "data": {
      "text/html": [
       "<div>\n",
       "<style scoped>\n",
       "    .dataframe tbody tr th:only-of-type {\n",
       "        vertical-align: middle;\n",
       "    }\n",
       "\n",
       "    .dataframe tbody tr th {\n",
       "        vertical-align: top;\n",
       "    }\n",
       "\n",
       "    .dataframe thead th {\n",
       "        text-align: right;\n",
       "    }\n",
       "</style>\n",
       "<table border=\"1\" class=\"dataframe\">\n",
       "  <thead>\n",
       "    <tr style=\"text-align: right;\">\n",
       "      <th></th>\n",
       "      <th>PR_AUC</th>\n",
       "      <th>ROC_AUC</th>\n",
       "      <th>accuracy</th>\n",
       "      <th>loss</th>\n",
       "    </tr>\n",
       "  </thead>\n",
       "  <tbody>\n",
       "    <tr>\n",
       "      <th>0</th>\n",
       "      <td>0.746091</td>\n",
       "      <td>0.752956</td>\n",
       "      <td>0.6838</td>\n",
       "      <td>0.667276</td>\n",
       "    </tr>\n",
       "  </tbody>\n",
       "</table>\n",
       "</div>"
      ],
      "text/plain": [
       "     PR_AUC   ROC_AUC  accuracy      loss\n",
       "0  0.746091  0.752956    0.6838  0.667276"
      ]
     },
     "execution_count": 32,
     "metadata": {},
     "output_type": "execute_result"
    }
   ],
   "source": [
    "scm.scoreMetrics(D_va)"
   ]
  },
  {
   "cell_type": "code",
   "execution_count": 37,
   "metadata": {},
   "outputs": [
    {
     "data": {
      "text/plain": [
       "array([1.43225427, 1.06506241, 1.64184336, 1.02734326, 1.06241517,\n",
       "       0.85694576, 0.9344213 , 1.22366534, 1.18158795, 1.03652339])"
      ]
     },
     "execution_count": 37,
     "metadata": {},
     "output_type": "execute_result"
    }
   ],
   "source": [
    "scm.entropy(D_va)"
   ]
  },
  {
   "cell_type": "code",
   "execution_count": 34,
   "metadata": {},
   "outputs": [],
   "source": [
    "f, l, G, m, l = scm.predictFull(D_va)"
   ]
  },
  {
   "cell_type": "code",
   "execution_count": 35,
   "metadata": {},
   "outputs": [
    {
     "data": {
      "text/plain": [
       "5    1420\n",
       "6    1410\n",
       "1    1247\n",
       "3    1213\n",
       "4    1111\n",
       "9    1024\n",
       "7     912\n",
       "8     769\n",
       "0     506\n",
       "2     388\n",
       "dtype: int64"
      ]
     },
     "execution_count": 35,
     "metadata": {},
     "output_type": "execute_result"
    }
   ],
   "source": [
    "pd.Series(m).value_counts()"
   ]
  }
 ],
 "metadata": {
  "kernelspec": {
   "display_name": "Python [conda env:my_root]",
   "language": "python",
   "name": "conda-env-my_root-py"
  },
  "language_info": {
   "codemirror_mode": {
    "name": "ipython",
    "version": 3
   },
   "file_extension": ".py",
   "mimetype": "text/x-python",
   "name": "python",
   "nbconvert_exporter": "python",
   "pygments_lexer": "ipython3",
   "version": "3.6.8"
  }
 },
 "nbformat": 4,
 "nbformat_minor": 2
}
