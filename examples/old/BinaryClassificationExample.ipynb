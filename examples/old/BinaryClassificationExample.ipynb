{
 "cells": [
  {
   "cell_type": "markdown",
   "metadata": {},
   "source": [
    "In this notebook, we're going to generate some synthetic binary classification data and show how to train supervised cadre models (SCM) on it. We'll train a model with the default parameters, and then we'll show how we can use cross-validation for hyperparameter tuning to get better performance."
   ]
  },
  {
   "cell_type": "code",
   "execution_count": 1,
   "metadata": {},
   "outputs": [],
   "source": [
    "import numpy as np\n",
    "import pandas as pd\n",
    "import sys\n",
    "import matplotlib.pyplot as plt\n",
    "import seaborn as sns\n",
    "\n",
    "sys.path.insert(0, '../cadreModels')\n",
    "\n",
    "from classificationBinary import binaryCadreModel\n",
    "from sklearn.datasets import make_classification\n",
    "from scipy.stats import zscore, zmap\n",
    "\n",
    "from sklearn.model_selection import train_test_split"
   ]
  },
  {
   "cell_type": "code",
   "execution_count": 2,
   "metadata": {},
   "outputs": [],
   "source": [
    "%load_ext autoreload\n",
    "%autoreload 2"
   ]
  },
  {
   "cell_type": "code",
   "execution_count": 3,
   "metadata": {},
   "outputs": [],
   "source": [
    "sns.set_style('darkgrid')"
   ]
  },
  {
   "cell_type": "markdown",
   "metadata": {},
   "source": [
    "Generate data with the `sklearn.datasets.make_classification` function. Bind `X` and `y` into a `pd.DataFrame`."
   ]
  },
  {
   "cell_type": "code",
   "execution_count": 4,
   "metadata": {},
   "outputs": [],
   "source": [
    "X, y = make_classification(n_samples=50000, random_state=2125615, n_clusters_per_class=10, \n",
    "                           n_features=50, n_informative=25, n_repeated=15)\n",
    "\n",
    "data = pd.DataFrame(X)\n",
    "data.columns = ['f'+str(p) for p in data.columns]\n",
    "data = data.assign(target=y)\n",
    "features = data.columns[data.columns != 'target']"
   ]
  },
  {
   "cell_type": "code",
   "execution_count": 5,
   "metadata": {},
   "outputs": [
    {
     "data": {
      "text/html": [
       "<div>\n",
       "<style scoped>\n",
       "    .dataframe tbody tr th:only-of-type {\n",
       "        vertical-align: middle;\n",
       "    }\n",
       "\n",
       "    .dataframe tbody tr th {\n",
       "        vertical-align: top;\n",
       "    }\n",
       "\n",
       "    .dataframe thead th {\n",
       "        text-align: right;\n",
       "    }\n",
       "</style>\n",
       "<table border=\"1\" class=\"dataframe\">\n",
       "  <thead>\n",
       "    <tr style=\"text-align: right;\">\n",
       "      <th></th>\n",
       "      <th>f0</th>\n",
       "      <th>f1</th>\n",
       "      <th>f2</th>\n",
       "      <th>f3</th>\n",
       "      <th>f4</th>\n",
       "      <th>f5</th>\n",
       "      <th>f6</th>\n",
       "      <th>f7</th>\n",
       "      <th>f8</th>\n",
       "      <th>f9</th>\n",
       "      <th>...</th>\n",
       "      <th>f41</th>\n",
       "      <th>f42</th>\n",
       "      <th>f43</th>\n",
       "      <th>f44</th>\n",
       "      <th>f45</th>\n",
       "      <th>f46</th>\n",
       "      <th>f47</th>\n",
       "      <th>f48</th>\n",
       "      <th>f49</th>\n",
       "      <th>target</th>\n",
       "    </tr>\n",
       "  </thead>\n",
       "  <tbody>\n",
       "    <tr>\n",
       "      <th>0</th>\n",
       "      <td>-0.562447</td>\n",
       "      <td>-4.496746</td>\n",
       "      <td>-4.496746</td>\n",
       "      <td>0.523007</td>\n",
       "      <td>5.937111</td>\n",
       "      <td>0.628727</td>\n",
       "      <td>0.261670</td>\n",
       "      <td>-3.003903</td>\n",
       "      <td>0.523007</td>\n",
       "      <td>2.877445</td>\n",
       "      <td>...</td>\n",
       "      <td>2.169409</td>\n",
       "      <td>4.228746</td>\n",
       "      <td>-2.491846</td>\n",
       "      <td>0.389091</td>\n",
       "      <td>-1.462236</td>\n",
       "      <td>-1.188389</td>\n",
       "      <td>0.389091</td>\n",
       "      <td>5.371964</td>\n",
       "      <td>0.523007</td>\n",
       "      <td>1</td>\n",
       "    </tr>\n",
       "    <tr>\n",
       "      <th>1</th>\n",
       "      <td>-0.466490</td>\n",
       "      <td>1.704545</td>\n",
       "      <td>1.704545</td>\n",
       "      <td>1.158476</td>\n",
       "      <td>-0.013365</td>\n",
       "      <td>0.751370</td>\n",
       "      <td>-2.209397</td>\n",
       "      <td>2.166053</td>\n",
       "      <td>1.158476</td>\n",
       "      <td>0.362309</td>\n",
       "      <td>...</td>\n",
       "      <td>-1.412764</td>\n",
       "      <td>0.007301</td>\n",
       "      <td>-4.074863</td>\n",
       "      <td>3.412430</td>\n",
       "      <td>-1.229256</td>\n",
       "      <td>-3.037757</td>\n",
       "      <td>3.412430</td>\n",
       "      <td>-5.643174</td>\n",
       "      <td>1.158476</td>\n",
       "      <td>1</td>\n",
       "    </tr>\n",
       "    <tr>\n",
       "      <th>2</th>\n",
       "      <td>0.950077</td>\n",
       "      <td>3.122326</td>\n",
       "      <td>3.122326</td>\n",
       "      <td>-0.534232</td>\n",
       "      <td>-3.825865</td>\n",
       "      <td>-1.757176</td>\n",
       "      <td>1.554950</td>\n",
       "      <td>0.632377</td>\n",
       "      <td>-0.534232</td>\n",
       "      <td>3.675752</td>\n",
       "      <td>...</td>\n",
       "      <td>-1.114574</td>\n",
       "      <td>0.188603</td>\n",
       "      <td>2.145846</td>\n",
       "      <td>3.929885</td>\n",
       "      <td>-7.317242</td>\n",
       "      <td>-4.200953</td>\n",
       "      <td>3.929885</td>\n",
       "      <td>-4.407239</td>\n",
       "      <td>-0.534232</td>\n",
       "      <td>0</td>\n",
       "    </tr>\n",
       "    <tr>\n",
       "      <th>3</th>\n",
       "      <td>0.896450</td>\n",
       "      <td>1.962297</td>\n",
       "      <td>1.962297</td>\n",
       "      <td>5.707130</td>\n",
       "      <td>-3.910068</td>\n",
       "      <td>1.387582</td>\n",
       "      <td>3.167782</td>\n",
       "      <td>5.575011</td>\n",
       "      <td>5.707130</td>\n",
       "      <td>-0.543254</td>\n",
       "      <td>...</td>\n",
       "      <td>1.480521</td>\n",
       "      <td>4.057712</td>\n",
       "      <td>0.410260</td>\n",
       "      <td>2.630305</td>\n",
       "      <td>7.187664</td>\n",
       "      <td>3.307076</td>\n",
       "      <td>2.630305</td>\n",
       "      <td>2.483412</td>\n",
       "      <td>5.707130</td>\n",
       "      <td>0</td>\n",
       "    </tr>\n",
       "    <tr>\n",
       "      <th>4</th>\n",
       "      <td>-0.032346</td>\n",
       "      <td>2.897824</td>\n",
       "      <td>2.897824</td>\n",
       "      <td>-0.938040</td>\n",
       "      <td>1.600827</td>\n",
       "      <td>1.681539</td>\n",
       "      <td>2.033267</td>\n",
       "      <td>-1.647245</td>\n",
       "      <td>-0.938040</td>\n",
       "      <td>0.065656</td>\n",
       "      <td>...</td>\n",
       "      <td>2.976090</td>\n",
       "      <td>6.443671</td>\n",
       "      <td>1.234381</td>\n",
       "      <td>1.099088</td>\n",
       "      <td>7.176274</td>\n",
       "      <td>-2.604756</td>\n",
       "      <td>1.099088</td>\n",
       "      <td>-1.910424</td>\n",
       "      <td>-0.938040</td>\n",
       "      <td>1</td>\n",
       "    </tr>\n",
       "  </tbody>\n",
       "</table>\n",
       "<p>5 rows × 51 columns</p>\n",
       "</div>"
      ],
      "text/plain": [
       "         f0        f1        f2        f3        f4        f5        f6  \\\n",
       "0 -0.562447 -4.496746 -4.496746  0.523007  5.937111  0.628727  0.261670   \n",
       "1 -0.466490  1.704545  1.704545  1.158476 -0.013365  0.751370 -2.209397   \n",
       "2  0.950077  3.122326  3.122326 -0.534232 -3.825865 -1.757176  1.554950   \n",
       "3  0.896450  1.962297  1.962297  5.707130 -3.910068  1.387582  3.167782   \n",
       "4 -0.032346  2.897824  2.897824 -0.938040  1.600827  1.681539  2.033267   \n",
       "\n",
       "         f7        f8        f9   ...         f41       f42       f43  \\\n",
       "0 -3.003903  0.523007  2.877445   ...    2.169409  4.228746 -2.491846   \n",
       "1  2.166053  1.158476  0.362309   ...   -1.412764  0.007301 -4.074863   \n",
       "2  0.632377 -0.534232  3.675752   ...   -1.114574  0.188603  2.145846   \n",
       "3  5.575011  5.707130 -0.543254   ...    1.480521  4.057712  0.410260   \n",
       "4 -1.647245 -0.938040  0.065656   ...    2.976090  6.443671  1.234381   \n",
       "\n",
       "        f44       f45       f46       f47       f48       f49  target  \n",
       "0  0.389091 -1.462236 -1.188389  0.389091  5.371964  0.523007       1  \n",
       "1  3.412430 -1.229256 -3.037757  3.412430 -5.643174  1.158476       1  \n",
       "2  3.929885 -7.317242 -4.200953  3.929885 -4.407239 -0.534232       0  \n",
       "3  2.630305  7.187664  3.307076  2.630305  2.483412  5.707130       0  \n",
       "4  1.099088  7.176274 -2.604756  1.099088 -1.910424 -0.938040       1  \n",
       "\n",
       "[5 rows x 51 columns]"
      ]
     },
     "execution_count": 5,
     "metadata": {},
     "output_type": "execute_result"
    }
   ],
   "source": [
    "data.head()"
   ]
  },
  {
   "cell_type": "markdown",
   "metadata": {},
   "source": [
    "Since the features are continuous, we should standardize them."
   ]
  },
  {
   "cell_type": "code",
   "execution_count": 6,
   "metadata": {},
   "outputs": [
    {
     "name": "stderr",
     "output_type": "stream",
     "text": [
      "/home/newa/.conda/envs/my_root/lib/python3.6/site-packages/ipykernel/__main__.py:3: SettingWithCopyWarning: \n",
      "A value is trying to be set on a copy of a slice from a DataFrame.\n",
      "Try using .loc[row_indexer,col_indexer] = value instead\n",
      "\n",
      "See the caveats in the documentation: http://pandas.pydata.org/pandas-docs/stable/indexing.html#indexing-view-versus-copy\n",
      "  app.launch_new_instance()\n",
      "/home/newa/.conda/envs/my_root/lib/python3.6/site-packages/pandas/core/indexing.py:537: SettingWithCopyWarning: \n",
      "A value is trying to be set on a copy of a slice from a DataFrame.\n",
      "Try using .loc[row_indexer,col_indexer] = value instead\n",
      "\n",
      "See the caveats in the documentation: http://pandas.pydata.org/pandas-docs/stable/indexing.html#indexing-view-versus-copy\n",
      "  self.obj[item] = s\n",
      "/home/newa/.conda/envs/my_root/lib/python3.6/site-packages/ipykernel/__main__.py:4: SettingWithCopyWarning: \n",
      "A value is trying to be set on a copy of a slice from a DataFrame.\n",
      "Try using .loc[row_indexer,col_indexer] = value instead\n",
      "\n",
      "See the caveats in the documentation: http://pandas.pydata.org/pandas-docs/stable/indexing.html#indexing-view-versus-copy\n"
     ]
    }
   ],
   "source": [
    "D_tr, D_va = train_test_split(data, test_size=0.2, random_state=313616)\n",
    "\n",
    "D_va[features] = zmap(D_va[features], D_tr[features])\n",
    "D_tr[features] = zscore(D_tr[features])"
   ]
  },
  {
   "cell_type": "markdown",
   "metadata": {},
   "source": [
    "A `binaryCadreModel`'s initialization function takes the following arguments and default values:\n",
    "\n",
    "* `M=2` -- number of cadres in model\n",
    "* `gamma=10.` -- cadre-assignment sharpness\n",
    "* `lambda_d=0.01` -- regularization strength for cadre-assignment weight parameter `d`\n",
    "* `lambda_W=0.01` -- regularization strength for classification-weight parameter `W`\n",
    "* `alpha_d=0.9` -- elastic net mixing weight for cadre-assignment weight parameter `d`\n",
    "* `alpha_W=0.9` -- elastic net mixing with for classification-weight parameter `W`\n",
    "* `Tmax=10000` -- maximum number of SGD steps to take\n",
    "* `record=100` -- during training, how often goodness-of-fit metrics should be evaluated on the data\n",
    "* `eta=2e-3` -- initial stepsize / learning rate\n",
    "* `Nba=64` -- minibatch size\n",
    "* `eps=1e-3` -- convergence tolerance\n",
    "* `termination_metric='ROC_AUC'` -- training terminated if the difference between the most recent `termination_metric` value and the second most recent `termination_metric` is less than `eps`"
   ]
  },
  {
   "cell_type": "markdown",
   "metadata": {},
   "source": [
    "Once you initialize a `binaryCadreModel`, you apply the `fit` method to train it. This method takes the following arguments and default values:\n",
    "\n",
    "* `data` -- `pd.DataFrame` of training data\n",
    "* `targetCol` -- string column-name of target feature in `data`\n",
    "* `cadreFts=None` -- `pd.Index` of column-names used for cadre-assignment\n",
    "* `predictFts=None` -- `pd.Index` of column-names used for target-prediction\n",
    "* `dataVa=None` -- optional `pd.DataFrame` of validation data \n",
    "* `seed=16162` -- seed for parameter initialization and minibatch generation\n",
    "* `store=False` -- whether or not copies `data` and `dataVa` should be added as attributes of the `binaryCadreModel`\n",
    "* `progress=False` -- whether or not goodness-of-fit metrics should be printed during training"
   ]
  },
  {
   "cell_type": "markdown",
   "metadata": {},
   "source": [
    "Other attributes of the `binaryCadreModel` include:\n",
    "\n",
    "* `W` -- matrix of cadre-specific classification weights\n",
    "* `W0` -- vector of cadre-specific classification biases\n",
    "* `C` -- matrix of cadre centers\n",
    "* `d` -- vector of cadre-assignments weights\n",
    "* `metrics` -- a `dict` with `'training'` and `'validation'` as keys. Each item is a `pd.DataFrame` of goodness-of-fit metrics evaluated during training. Metrics include loss, accuracy, ROC AUC, and precision-recall (PR) AUC\n",
    "* `time` -- list of computer-time values it took for each SGD step to be evaluated\n",
    "* `proportions` -- during training, the proportion of the training data assigned to each cadre is recorded. This is a `pd.DataFrame` of those proportions, which lets you see if cadre assignments have converged to a stable distribution."
   ]
  },
  {
   "cell_type": "markdown",
   "metadata": {},
   "source": [
    "First we're going to train an SCM without really tuning the hyperparameters. Note that `Tmax` is quite large (20001). The number of SGD steps needed for training tends to vary wildly by dataset. Sometimes, only a few hundred are needed. Because of the convergence tolerance `eps`, if you specify too large a `Tmax`, the training will stop after progress slows."
   ]
  },
  {
   "cell_type": "code",
   "execution_count": 7,
   "metadata": {
    "scrolled": true
   },
   "outputs": [
    {
     "name": "stdout",
     "output_type": "stream",
     "text": [
      "numbers being printed: SGD iteration, training loss, training accuracy, validation loss, validation accuracy, time\n",
      "0\n",
      "50 1.2984807 0.517075 1.297145 0.5141 0.16040802001953125\n",
      "100 1.1886443 0.550775 1.1874509 0.5463 11.967761516571045\n",
      "150 1.1525713 0.565475 1.151257 0.5635 22.949254035949707\n",
      "200 1.1297761 0.574425 1.128429 0.5765 33.663105726242065\n",
      "250 1.1135666 0.58145 1.1121567 0.5834 43.84789514541626\n",
      "300 1.1009313 0.587875 1.099615 0.5928 53.823208808898926\n",
      "350 1.0902662 0.593575 1.0889814 0.5989 63.28908324241638\n",
      "400 1.0815023 0.598125 1.0802588 0.6023 73.21573829650879\n",
      "450 1.0744634 0.602525 1.073235 0.6045 82.95269703865051\n",
      "500 1.0682241 0.606975 1.0670334 0.6081 92.10580277442932\n",
      "550 1.0628145 0.6104 1.0616798 0.6132 101.66183662414551\n",
      "600 1.0579996 0.6147 1.0569385 0.6179 111.35325717926025\n",
      "650 1.0539076 0.6175 1.0528872 0.6196 121.34262418746948\n",
      "700 1.050068 0.6201 1.0491099 0.6229 131.49778866767883\n",
      "750 1.0468949 0.6219 1.0459743 0.6246 140.51393866539001\n",
      "800 1.0438342 0.624325 1.042928 0.6255 150.43138599395752\n",
      "850 1.0410184 0.6263 1.0401587 0.6274 159.74762153625488\n",
      "900 1.0385079 0.62785 1.0377221 0.6302 169.33587527275085\n",
      "950 1.0362376 0.63 1.0354745 0.6319 178.9903061389923\n",
      "1000 1.0341733 0.6319 1.0333968 0.6332 189.06610560417175\n",
      "1050 1.0324463 0.633375 1.0317111 0.6335 199.0310995578766\n",
      "1100 1.0306022 0.634475 1.029889 0.6357 209.14070653915405\n",
      "1150 1.0289488 0.636575 1.028254 0.6367 219.67273902893066\n",
      "1200 1.0274383 0.638225 1.0267512 0.6391 230.64619517326355\n",
      "1250 1.026089 0.639075 1.0254306 0.6398 241.1908106803894\n",
      "1300 1.0246923 0.6407 1.0240526 0.6419 251.37676692008972\n",
      "1350 1.0235015 0.641525 1.0228912 0.6421 261.7817792892456\n",
      "1400 1.0224794 0.64255 1.0218996 0.6434 271.5611367225647\n",
      "1450 1.0213741 0.6434 1.020763 0.6454 281.3336479663849\n",
      "1500 1.0202988 0.64465 1.0196947 0.6457 291.50555992126465\n",
      "1550 1.0193259 0.64545 1.0187743 0.6454 301.8103790283203\n",
      "1600 1.0184225 0.6461 1.0178884 0.646 311.5369575023651\n",
      "1650 1.01746 0.64725 1.0169306 0.6459 321.4680836200714\n",
      "1700 1.016701 0.648575 1.0161842 0.646 330.8765652179718\n",
      "1750 1.0160935 0.64905 1.0155878 0.6472 340.7576570510864\n",
      "1800 1.0153413 0.649925 1.0148764 0.6468 350.72644329071045\n",
      "1850 1.0146592 0.650875 1.0142295 0.6472 360.47241163253784\n",
      "1900 1.0140145 0.65225 1.0136396 0.6481 370.663964509964\n",
      "1950 1.0133808 0.6531 1.0130249 0.6493 380.45010590553284\n",
      "2000 1.0128322 0.654 1.0125104 0.6505 390.78141808509827\n",
      "2050 1.0123044 0.655025 1.0119956 0.652 401.918123960495\n",
      "2100 1.0117325 0.655475 1.0114225 0.6536 411.69665694236755\n",
      "2150 1.0112698 0.65605 1.0109704 0.6547 421.62110018730164\n",
      "2200 1.010825 0.656625 1.0105476 0.6544 431.1120300292969\n",
      "2250 1.0104668 0.657125 1.0102031 0.6555 440.68647050857544\n",
      "2300 1.0100971 0.657725 1.0098437 0.6558 450.675719499588\n",
      "2350 1.0097644 0.6576 1.0095159 0.6558 460.3006613254547\n",
      "2400 1.0094018 0.6576 1.0091656 0.6567 470.0137550830841\n",
      "2450 1.0090091 0.65835 1.0087845 0.6576 480.0735487937927\n",
      "2500 1.008688 0.658375 1.0084815 0.6583 490.6084771156311\n",
      "2550 1.0084109 0.659175 1.0082192 0.659 500.2664301395416\n",
      "2600 1.0081751 0.6601 1.0080003 0.6595 510.2110471725464\n",
      "2650 1.0079514 0.66075 1.0077859 0.6609 519.0919890403748\n",
      "2700 1.0077227 0.661925 1.0075693 0.6616 527.9099519252777\n",
      "2750 1.0074484 0.662225 1.0073074 0.6624 537.3427712917328\n",
      "2800 1.0071951 0.6634 1.0070647 0.6629 546.765200138092\n",
      "2850 1.0069638 0.663575 1.0068378 0.664 555.5264751911163\n",
      "2900 1.0066494 0.664225 1.0065564 0.6632 564.8310313224792\n",
      "2950 1.006421 0.6652 1.006345 0.6635 574.4652636051178\n",
      "3000 1.0062405 0.66555 1.0061991 0.6641 583.8569414615631\n",
      "3050 1.0059494 0.66635 1.005922 0.6646 593.2611258029938\n",
      "3100 1.0057079 0.66655 1.0057105 0.6657 602.7320125102997\n",
      "3150 1.005502 0.666825 1.0055379 0.6658 612.2166702747345\n",
      "3200 1.005301 0.667125 1.0053685 0.6662 621.5780584812164\n",
      "3250 1.0051064 0.667875 1.005192 0.6665 631.9755754470825\n",
      "3300 1.0049787 0.6683 1.0050905 0.6675 641.428147315979\n",
      "3350 1.0047683 0.66945 1.0048943 0.6686 651.4228754043579\n",
      "3400 1.004645 0.6696 1.0047716 0.6687 661.7682123184204\n",
      "3450 1.0044938 0.6697 1.0046428 0.6685 671.3290729522705\n",
      "3500 1.004345 0.66995 1.0045022 0.6697 679.9789485931396\n",
      "3550 1.0042195 0.67065 1.0043861 0.6698 688.838677406311\n",
      "3600 1.0040691 0.670625 1.0042535 0.671 698.3323218822479\n",
      "3650 1.0039271 0.67085 1.0041189 0.6711 707.7633645534515\n",
      "3700 1.0037835 0.671025 1.003992 0.6708 717.1686017513275\n",
      "3750 1.0037214 0.671125 1.0039344 0.6709 727.0570106506348\n",
      "3800 1.0036013 0.671825 1.0038103 0.6719 736.6477103233337\n",
      "3850 1.0034882 0.67215 1.003703 0.6714 746.4842140674591\n",
      "3900 1.0032843 0.6723 1.0034928 0.6719 755.7556331157684\n",
      "3950 1.0031608 0.672675 1.003372 0.6722 765.3188097476959\n",
      "4000 1.0030643 0.67285 1.0032868 0.6719 775.0872633457184\n",
      "4050 1.0029649 0.67365 1.0031915 0.6721 784.9987847805023\n",
      "4100 1.0028217 0.673975 1.0030594 0.6722 794.3359611034393\n",
      "4150 1.0027512 0.674475 1.0029904 0.6717 803.9905259609222\n",
      "4200 1.002605 0.675175 1.0028439 0.6735 813.9735233783722\n",
      "4250 1.002497 0.67545 1.0027444 0.6747 823.2619225978851\n",
      "4300 1.0023721 0.6758 1.002629 0.6741 832.4009275436401\n",
      "4350 1.0023291 0.676375 1.0025992 0.6745 842.8124632835388\n",
      "4400 1.0022455 0.676675 1.002525 0.6745 851.8851416110992\n",
      "4450 1.0021421 0.677225 1.0024272 0.6745 861.1342124938965\n",
      "4500 1.0020936 0.6774 1.0023941 0.6747 870.4169545173645\n",
      "4550 1.0020189 0.67765 1.0023285 0.6742 879.427497625351\n",
      "4600 1.0019748 0.67765 1.0022922 0.6746 888.7499928474426\n",
      "4650 1.0018576 0.678125 1.0021815 0.6749 898.3625662326813\n",
      "4700 1.0017458 0.6782 1.0020739 0.6759 907.7317795753479\n",
      "4750 1.0016718 0.67865 1.0020099 0.6756 916.5043303966522\n",
      "4800 1.0016237 0.6792 1.0019569 0.6751 925.3210892677307\n",
      "4850 1.0015059 0.68025 1.0018393 0.6752 934.3281033039093\n",
      "4900 1.0014584 0.680175 1.0018041 0.6757 943.5932660102844\n",
      "4950 1.0013764 0.680375 1.0017209 0.6762 952.934769153595\n",
      "5000 1.0013605 0.6803 1.0017065 0.677 962.6235640048981\n",
      "5050 1.0012981 0.680525 1.0016475 0.6762 971.6014995574951\n",
      "5100 1.0012498 0.6807 1.0016023 0.6766 980.6819007396698\n",
      "5150 1.0012249 0.6811 1.0015798 0.6767 989.9250795841217\n",
      "5200 1.001187 0.6813 1.0015426 0.6769 999.1021206378937\n",
      "training has terminated because: lack of sufficient decrease in validation ROC_AUC\n"
     ]
    },
    {
     "data": {
      "text/plain": [
       "<classificationBinary.binaryCadreModel at 0x7f867f5478d0>"
      ]
     },
     "execution_count": 7,
     "metadata": {},
     "output_type": "execute_result"
    }
   ],
   "source": [
    "scm = binaryCadreModel(Tmax=20001, record=50, eps=1e-4, lambda_W=1e-3, lambda_d=1e-3, M=10, gamma=1.)\n",
    "scm.fit(D_tr, 'target', features, features, D_va, progress=True)"
   ]
  },
  {
   "cell_type": "markdown",
   "metadata": {},
   "source": [
    "Once we've trained a model, we can plot the trajectories of the ROC AUC, PR AUC, and accuracy. These plots suggest that a little bit more training time might have been useful, as the AUCs are still increasing."
   ]
  },
  {
   "cell_type": "code",
   "execution_count": 8,
   "metadata": {},
   "outputs": [
    {
     "data": {
      "text/plain": [
       "<matplotlib.axes._subplots.AxesSubplot at 0x7f867e933b70>"
      ]
     },
     "execution_count": 8,
     "metadata": {},
     "output_type": "execute_result"
    },
    {
     "data": {
      "image/png": "[encoded data removed]",
      "text/plain": [
       "<Figure size 432x288 with 1 Axes>"
      ]
     },
     "metadata": {},
     "output_type": "display_data"
    }
   ],
   "source": [
    "scm.metrics['validation'].drop('loss', axis=1).plot()"
   ]
  },
  {
   "cell_type": "code",
   "execution_count": 9,
   "metadata": {
    "scrolled": true
   },
   "outputs": [
    {
     "data": {
      "text/plain": [
       "<matplotlib.axes._subplots.AxesSubplot at 0x7f867ebc34a8>"
      ]
     },
     "execution_count": 9,
     "metadata": {},
     "output_type": "execute_result"
    },
    {
     "data": {
      "image/png": "[encoded data removed]",
      "text/plain": [
       "<Figure size 432x288 with 1 Axes>"
      ]
     },
     "metadata": {},
     "output_type": "display_data"
    }
   ],
   "source": [
    "scm.metrics['training']['loss'].plot()"
   ]
  },
  {
   "cell_type": "markdown",
   "metadata": {},
   "source": [
    "We can use the `scoreMetrics` method to calculate a variety of goodness-of-fit metrics on a new dataset."
   ]
  },
  {
   "cell_type": "code",
   "execution_count": 10,
   "metadata": {
    "scrolled": true
   },
   "outputs": [
    {
     "data": {
      "text/html": [
       "<div>\n",
       "<style scoped>\n",
       "    .dataframe tbody tr th:only-of-type {\n",
       "        vertical-align: middle;\n",
       "    }\n",
       "\n",
       "    .dataframe tbody tr th {\n",
       "        vertical-align: top;\n",
       "    }\n",
       "\n",
       "    .dataframe thead th {\n",
       "        text-align: right;\n",
       "    }\n",
       "</style>\n",
       "<table border=\"1\" class=\"dataframe\">\n",
       "  <thead>\n",
       "    <tr style=\"text-align: right;\">\n",
       "      <th></th>\n",
       "      <th>PR_AUC</th>\n",
       "      <th>ROC_AUC</th>\n",
       "      <th>accuracy</th>\n",
       "      <th>loss</th>\n",
       "    </tr>\n",
       "  </thead>\n",
       "  <tbody>\n",
       "    <tr>\n",
       "      <th>0</th>\n",
       "      <td>0.746555</td>\n",
       "      <td>0.743861</td>\n",
       "      <td>0.6762</td>\n",
       "      <td>0.693101</td>\n",
       "    </tr>\n",
       "  </tbody>\n",
       "</table>\n",
       "</div>"
      ],
      "text/plain": [
       "     PR_AUC   ROC_AUC  accuracy      loss\n",
       "0  0.746555  0.743861    0.6762  0.693101"
      ]
     },
     "execution_count": 10,
     "metadata": {},
     "output_type": "execute_result"
    }
   ],
   "source": [
    "scm.scoreMetrics(D_va)"
   ]
  },
  {
   "cell_type": "markdown",
   "metadata": {},
   "source": [
    "The `entropy` method calculates the conditional entropy of the cadre-assignment random variable. This quantifies the confidence of an observation's most likely cadre-assignment.\n",
    "\n",
    "Each cadre (value of `M`) gets its own conditional entropy. Conditional entropies close to `log2(M)` indicate lots of uncertainty in cadre-assignment for that cadre, and conditional entropies close to 0 indicate very little uncertainty.\n",
    "\n",
    "More detail about the use of conditional entropy can be found in `arXiv:1808.04880`."
   ]
  },
  {
   "cell_type": "code",
   "execution_count": 41,
   "metadata": {},
   "outputs": [
    {
     "data": {
      "text/plain": [
       "3.321928094887362"
      ]
     },
     "execution_count": 41,
     "metadata": {},
     "output_type": "execute_result"
    }
   ],
   "source": [
    "np.log2(10)"
   ]
  },
  {
   "cell_type": "markdown",
   "metadata": {},
   "source": [
    "These conditional entropies are all fairly close to their maximum value. This means that the SCM's classification function should not be treated as being very piecewise linear -- there is a lot of nonlinearity in predicted labels. We could try to fix this by retraining with a larger `gamma` value, or we can simply accept it.\n",
    "\n",
    "This particular dataset is fairly nonlinear, I believe, so it's not surprising that the conditional entropies are large."
   ]
  },
  {
   "cell_type": "code",
   "execution_count": 40,
   "metadata": {},
   "outputs": [
    {
     "data": {
      "text/plain": [
       "array([3.08914561, 3.09106624, 3.19445972, 3.09472192, 3.10619275,\n",
       "       3.01084184, 3.05615803, 3.18887349, 3.10599752, 3.0484128 ])"
      ]
     },
     "execution_count": 40,
     "metadata": {},
     "output_type": "execute_result"
    }
   ],
   "source": [
    "scm.entropy(D_tr)"
   ]
  },
  {
   "cell_type": "markdown",
   "metadata": {},
   "source": [
    "The `predictFull` method is the one-step prediction function for a new dataset. It returns:\n",
    "\n",
    "- `f` -- classification margins\n",
    "- `l` -- predicted labels\n",
    "- `G` -- cadre-membership probabilities\n",
    "- `m` -- predicted cadres\n",
    "- `l` -- loss function value"
   ]
  },
  {
   "cell_type": "code",
   "execution_count": 13,
   "metadata": {},
   "outputs": [],
   "source": [
    "f, l, G, m, l = scm.predictFull(D_va)"
   ]
  },
  {
   "cell_type": "code",
   "execution_count": 14,
   "metadata": {},
   "outputs": [
    {
     "data": {
      "text/plain": [
       "5    1380\n",
       "9    1259\n",
       "6    1243\n",
       "1    1243\n",
       "4    1075\n",
       "3    1012\n",
       "8     921\n",
       "0     801\n",
       "7     584\n",
       "2     482\n",
       "dtype: int64"
      ]
     },
     "execution_count": 14,
     "metadata": {},
     "output_type": "execute_result"
    }
   ],
   "source": [
    "pd.Series(m).value_counts()"
   ]
  },
  {
   "cell_type": "markdown",
   "metadata": {},
   "source": [
    "In addition to the `predictFull` method, there are more specific prediction methods:\n",
    "- `predictMargin` -- returns `f`\n",
    "- `predictClass` -- returns `l`\n",
    "- `predictCadre` -- returns `m`"
   ]
  },
  {
   "cell_type": "markdown",
   "metadata": {},
   "source": [
    "Now we're going to use 5-fold cross-validation for better hyperparameter tuning. This involves a lot of training, so we're going to do it in parallel."
   ]
  },
  {
   "cell_type": "code",
   "execution_count": null,
   "metadata": {},
   "outputs": [],
   "source": [
    "from itertools import product\n",
    "from joblib import Parallel, delayed"
   ]
  },
  {
   "cell_type": "code",
   "execution_count": 23,
   "metadata": {},
   "outputs": [],
   "source": [
    "def scmCrossval(d_tr, d_va, d_te, M, l_W, l_d, cadre_fts, predict_fts, Tmax, record):\n",
    "    mod = binaryCadreModel(\n",
    "                Tmax=Tmax, record=record,\n",
    "                M=M, alpha_d=0.99, alpha_W=0.99, lambda_d=l_d, lambda_W=l_W, gamma=1.)\n",
    "        \n",
    "    mod.fit(d_tr, 'target', cadre_fts, predict_fts, d_va, progress=False)\n",
    "    \n",
    "    ## evaluate on validation and test sets\n",
    "    err_va = mod.scoreMetrics(d_va)\n",
    "    err_te = mod.scoreMetrics(d_te)\n",
    "    \n",
    "    ## return everything as a list\n",
    "    return mod, err_va, err_te"
   ]
  },
  {
   "cell_type": "code",
   "execution_count": 24,
   "metadata": {},
   "outputs": [],
   "source": [
    "from sklearn.model_selection import KFold"
   ]
  },
  {
   "cell_type": "markdown",
   "metadata": {},
   "source": [
    "These are the possible hyperparameter configurations we are going to search over."
   ]
  },
  {
   "cell_type": "code",
   "execution_count": 25,
   "metadata": {},
   "outputs": [],
   "source": [
    "l_ds = np.array([0.01, 0.001])\n",
    "l_Ws = np.array([0.01, 0.001])\n",
    "Ms = np.array([4,6,8,10])\n",
    "n_folds = 5"
   ]
  },
  {
   "cell_type": "code",
   "execution_count": 26,
   "metadata": {
    "scrolled": true
   },
   "outputs": [
    {
     "name": "stderr",
     "output_type": "stream",
     "text": [
      "[Parallel(n_jobs=12)]: Using backend ThreadingBackend with 12 concurrent workers.\n",
      "[Parallel(n_jobs=12)]: Done   1 tasks      | elapsed:  3.0min\n",
      "[Parallel(n_jobs=12)]: Done   2 tasks      | elapsed:  3.0min\n",
      "[Parallel(n_jobs=12)]: Done   3 tasks      | elapsed:  3.0min\n",
      "[Parallel(n_jobs=12)]: Done   4 tasks      | elapsed:  4.3min\n",
      "[Parallel(n_jobs=12)]: Done   5 tasks      | elapsed:  5.0min\n",
      "[Parallel(n_jobs=12)]: Done   6 tasks      | elapsed:  5.7min\n",
      "[Parallel(n_jobs=12)]: Done   7 tasks      | elapsed:  5.8min\n",
      "[Parallel(n_jobs=12)]: Done   8 tasks      | elapsed:  6.3min\n",
      "[Parallel(n_jobs=12)]: Done   9 tasks      | elapsed:  7.0min\n",
      "[Parallel(n_jobs=12)]: Done  10 tasks      | elapsed:  7.0min\n",
      "[Parallel(n_jobs=12)]: Done  11 tasks      | elapsed:  8.8min\n",
      "[Parallel(n_jobs=12)]: Done  12 tasks      | elapsed:  9.0min\n",
      "[Parallel(n_jobs=12)]: Done  13 tasks      | elapsed: 12.3min\n",
      "[Parallel(n_jobs=12)]: Done  14 tasks      | elapsed: 13.3min\n",
      "[Parallel(n_jobs=12)]: Done  15 tasks      | elapsed: 13.3min\n",
      "[Parallel(n_jobs=12)]: Done  16 tasks      | elapsed: 14.8min\n",
      "[Parallel(n_jobs=12)]: Done  17 tasks      | elapsed: 14.9min\n",
      "[Parallel(n_jobs=12)]: Done  18 tasks      | elapsed: 16.0min\n",
      "[Parallel(n_jobs=12)]: Done  19 tasks      | elapsed: 16.0min\n",
      "[Parallel(n_jobs=12)]: Done  20 tasks      | elapsed: 16.2min\n",
      "[Parallel(n_jobs=12)]: Done  21 tasks      | elapsed: 17.3min\n",
      "[Parallel(n_jobs=12)]: Done  22 tasks      | elapsed: 18.0min\n",
      "[Parallel(n_jobs=12)]: Done  23 tasks      | elapsed: 18.6min\n",
      "[Parallel(n_jobs=12)]: Done  24 tasks      | elapsed: 18.6min\n",
      "[Parallel(n_jobs=12)]: Done  25 tasks      | elapsed: 18.6min\n",
      "[Parallel(n_jobs=12)]: Done  26 tasks      | elapsed: 20.5min\n",
      "[Parallel(n_jobs=12)]: Done  27 tasks      | elapsed: 20.8min\n",
      "[Parallel(n_jobs=12)]: Done  28 tasks      | elapsed: 21.3min\n",
      "[Parallel(n_jobs=12)]: Done  29 tasks      | elapsed: 21.4min\n",
      "[Parallel(n_jobs=12)]: Done  30 tasks      | elapsed: 22.7min\n",
      "[Parallel(n_jobs=12)]: Done  31 tasks      | elapsed: 28.7min\n",
      "[Parallel(n_jobs=12)]: Done  32 tasks      | elapsed: 29.0min\n",
      "[Parallel(n_jobs=12)]: Done  33 tasks      | elapsed: 29.2min\n",
      "[Parallel(n_jobs=12)]: Done  34 tasks      | elapsed: 29.8min\n",
      "[Parallel(n_jobs=12)]: Done  35 tasks      | elapsed: 30.0min\n",
      "[Parallel(n_jobs=12)]: Done  36 tasks      | elapsed: 30.8min\n",
      "[Parallel(n_jobs=12)]: Done  37 tasks      | elapsed: 31.4min\n",
      "[Parallel(n_jobs=12)]: Done  38 tasks      | elapsed: 31.5min\n",
      "[Parallel(n_jobs=12)]: Done  39 tasks      | elapsed: 31.5min\n",
      "[Parallel(n_jobs=12)]: Done  40 tasks      | elapsed: 32.8min\n",
      "[Parallel(n_jobs=12)]: Done  41 tasks      | elapsed: 33.4min\n",
      "[Parallel(n_jobs=12)]: Done  42 tasks      | elapsed: 33.4min\n",
      "[Parallel(n_jobs=12)]: Done  43 tasks      | elapsed: 34.6min\n",
      "[Parallel(n_jobs=12)]: Done  44 tasks      | elapsed: 35.5min\n",
      "[Parallel(n_jobs=12)]: Done  45 tasks      | elapsed: 36.1min\n",
      "[Parallel(n_jobs=12)]: Done  46 tasks      | elapsed: 36.4min\n",
      "[Parallel(n_jobs=12)]: Done  47 tasks      | elapsed: 36.5min\n",
      "[Parallel(n_jobs=12)]: Done  48 tasks      | elapsed: 36.8min\n",
      "[Parallel(n_jobs=12)]: Done  49 tasks      | elapsed: 36.9min\n",
      "[Parallel(n_jobs=12)]: Done  50 tasks      | elapsed: 37.4min\n",
      "[Parallel(n_jobs=12)]: Done  51 tasks      | elapsed: 38.3min\n",
      "[Parallel(n_jobs=12)]: Done  52 tasks      | elapsed: 43.2min\n",
      "[Parallel(n_jobs=12)]: Done  53 tasks      | elapsed: 44.3min\n",
      "[Parallel(n_jobs=12)]: Done  54 tasks      | elapsed: 44.5min\n",
      "[Parallel(n_jobs=12)]: Done  55 tasks      | elapsed: 45.0min\n",
      "[Parallel(n_jobs=12)]: Done  56 tasks      | elapsed: 46.2min\n",
      "[Parallel(n_jobs=12)]: Done  57 tasks      | elapsed: 46.4min\n",
      "[Parallel(n_jobs=12)]: Done  65 out of  80 | elapsed: 49.3min remaining: 11.4min\n",
      "[Parallel(n_jobs=12)]: Done  73 out of  80 | elapsed: 53.4min remaining:  5.1min\n",
      "[Parallel(n_jobs=12)]: Done  80 out of  80 | elapsed: 62.7min finished\n"
     ]
    }
   ],
   "source": [
    "kf = KFold(n_splits=n_folds, random_state=1414)\n",
    "\n",
    "n_jobs = np.minimum(12, n_folds * Ms.shape[0] * l_ds.shape[0] * l_Ws.shape[0])\n",
    "\n",
    "results = (Parallel(n_jobs=n_jobs, backend='threading', verbose=11)(delayed(scmCrossval)\n",
    "                    (D_tr.iloc[tr], D_tr.iloc[va], D_va, M, l_W, l_d, features, features, 20001, 1000) \n",
    "                    for (M, l_d, l_W, (fold, (tr, va))) in product(Ms, l_ds, l_Ws, enumerate(kf.split(D_tr)))))"
   ]
  },
  {
   "cell_type": "markdown",
   "metadata": {},
   "source": [
    "This function lets us organize the cross-validation accuracy of each hyperparameter configuration."
   ]
  },
  {
   "cell_type": "code",
   "execution_count": 27,
   "metadata": {},
   "outputs": [],
   "source": [
    "def extract_scores(results):\n",
    "    results_va, results_te = [], []\n",
    "    for model, scores_va, scores_te in results:\n",
    "        results_va.append(scores_va)\n",
    "        results_va[-1] = results_va[-1].assign(M=model.M, lambda_d=model.lambda_d, lambda_W=model.lambda_W)\n",
    "        \n",
    "        results_te.append(scores_te)\n",
    "        results_te[-1] = results_te[-1].assign(M=model.M, lambda_d=model.lambda_d, lambda_W=model.lambda_W)\n",
    "    results_va = pd.concat(results_va).reset_index(drop=True)\n",
    "    results_te = pd.concat(results_te).reset_index(drop=True)\n",
    "    print(results_va.head())\n",
    "    print(results_te.head())\n",
    "    return results_va, results_te"
   ]
  },
  {
   "cell_type": "code",
   "execution_count": 31,
   "metadata": {
    "scrolled": false
   },
   "outputs": [
    {
     "name": "stdout",
     "output_type": "stream",
     "text": [
      "     PR_AUC   ROC_AUC  accuracy      loss  M  lambda_d  lambda_W\n",
      "0  0.604021  0.602929  0.551625  0.840378  4      0.01      0.01\n",
      "1  0.613960  0.622548  0.584375  0.816942  4      0.01      0.01\n",
      "2  0.642983  0.647375  0.604875  0.757063  4      0.01      0.01\n",
      "3  0.618331  0.630848  0.599500  0.833157  4      0.01      0.01\n",
      "4  0.674285  0.662441  0.618750  0.741088  4      0.01      0.01\n",
      "     PR_AUC   ROC_AUC  accuracy      loss  M  lambda_d  lambda_W\n",
      "0  0.602458  0.598755    0.5457  0.840810  4      0.01      0.01\n",
      "1  0.622536  0.622885    0.5847  0.816972  4      0.01      0.01\n",
      "2  0.661772  0.661841    0.6108  0.756728  4      0.01      0.01\n",
      "3  0.622284  0.629413    0.5864  0.832929  4      0.01      0.01\n",
      "4  0.660926  0.645047    0.6035  0.741301  4      0.01      0.01\n"
     ]
    }
   ],
   "source": [
    "scores_va, scores_te = extract_scores(results)"
   ]
  },
  {
   "cell_type": "markdown",
   "metadata": {},
   "source": [
    "This function decides which hyperparameter configuration has the best validation accuracy on average, as measured by `ROC_AUC`."
   ]
  },
  {
   "cell_type": "code",
   "execution_count": 29,
   "metadata": {},
   "outputs": [],
   "source": [
    "def get_best_attributes(scores):\n",
    "    group = scores.groupby(['M','lambda_d','lambda_W'])\n",
    "    return group.mean().reset_index().sort_values('ROC_AUC', ascending=False).head()"
   ]
  },
  {
   "cell_type": "code",
   "execution_count": 32,
   "metadata": {
    "scrolled": false
   },
   "outputs": [
    {
     "data": {
      "text/html": [
       "<div>\n",
       "<style scoped>\n",
       "    .dataframe tbody tr th:only-of-type {\n",
       "        vertical-align: middle;\n",
       "    }\n",
       "\n",
       "    .dataframe tbody tr th {\n",
       "        vertical-align: top;\n",
       "    }\n",
       "\n",
       "    .dataframe thead th {\n",
       "        text-align: right;\n",
       "    }\n",
       "</style>\n",
       "<table border=\"1\" class=\"dataframe\">\n",
       "  <thead>\n",
       "    <tr style=\"text-align: right;\">\n",
       "      <th></th>\n",
       "      <th>M</th>\n",
       "      <th>lambda_d</th>\n",
       "      <th>lambda_W</th>\n",
       "      <th>PR_AUC</th>\n",
       "      <th>ROC_AUC</th>\n",
       "      <th>accuracy</th>\n",
       "      <th>loss</th>\n",
       "    </tr>\n",
       "  </thead>\n",
       "  <tbody>\n",
       "    <tr>\n",
       "      <th>4</th>\n",
       "      <td>6</td>\n",
       "      <td>0.001</td>\n",
       "      <td>0.001</td>\n",
       "      <td>0.784182</td>\n",
       "      <td>0.785212</td>\n",
       "      <td>0.711075</td>\n",
       "      <td>0.657471</td>\n",
       "    </tr>\n",
       "    <tr>\n",
       "      <th>8</th>\n",
       "      <td>8</td>\n",
       "      <td>0.001</td>\n",
       "      <td>0.001</td>\n",
       "      <td>0.768799</td>\n",
       "      <td>0.773369</td>\n",
       "      <td>0.701000</td>\n",
       "      <td>0.672957</td>\n",
       "    </tr>\n",
       "    <tr>\n",
       "      <th>0</th>\n",
       "      <td>4</td>\n",
       "      <td>0.001</td>\n",
       "      <td>0.001</td>\n",
       "      <td>0.770133</td>\n",
       "      <td>0.772715</td>\n",
       "      <td>0.701675</td>\n",
       "      <td>0.649345</td>\n",
       "    </tr>\n",
       "    <tr>\n",
       "      <th>12</th>\n",
       "      <td>10</td>\n",
       "      <td>0.001</td>\n",
       "      <td>0.001</td>\n",
       "      <td>0.749394</td>\n",
       "      <td>0.752592</td>\n",
       "      <td>0.681225</td>\n",
       "      <td>0.684820</td>\n",
       "    </tr>\n",
       "    <tr>\n",
       "      <th>6</th>\n",
       "      <td>6</td>\n",
       "      <td>0.010</td>\n",
       "      <td>0.001</td>\n",
       "      <td>0.735939</td>\n",
       "      <td>0.735982</td>\n",
       "      <td>0.672900</td>\n",
       "      <td>0.765081</td>\n",
       "    </tr>\n",
       "  </tbody>\n",
       "</table>\n",
       "</div>"
      ],
      "text/plain": [
       "     M  lambda_d  lambda_W    PR_AUC   ROC_AUC  accuracy      loss\n",
       "4    6     0.001     0.001  0.784182  0.785212  0.711075  0.657471\n",
       "8    8     0.001     0.001  0.768799  0.773369  0.701000  0.672957\n",
       "0    4     0.001     0.001  0.770133  0.772715  0.701675  0.649345\n",
       "12  10     0.001     0.001  0.749394  0.752592  0.681225  0.684820\n",
       "6    6     0.010     0.001  0.735939  0.735982  0.672900  0.765081"
      ]
     },
     "execution_count": 32,
     "metadata": {},
     "output_type": "execute_result"
    }
   ],
   "source": [
    "get_best_attributes(scores_va)"
   ]
  },
  {
   "cell_type": "markdown",
   "metadata": {},
   "source": [
    "Now we'll train a final model on the entire training dataset with the best hyperparameters."
   ]
  },
  {
   "cell_type": "code",
   "execution_count": 34,
   "metadata": {
    "scrolled": true
   },
   "outputs": [
    {
     "name": "stdout",
     "output_type": "stream",
     "text": [
      "numbers being printed: SGD iteration, training loss, training accuracy, validation loss, validation accuracy, time\n",
      "0\n",
      "1000 1.387868 0.5104 1.3802397 0.5102 0.1609952449798584\n",
      "2000 1.0543379 0.630375 1.0541757 0.6275 30.08755588531494\n",
      "3000 1.0130858 0.66165 1.0136889 0.6566 60.266019105911255\n",
      "4000 0.9949055 0.67395 0.9959138 0.6682 91.91009736061096\n",
      "5000 0.9844632 0.68165 0.9856071 0.6769 123.66660165786743\n",
      "6000 0.97760457 0.687175 0.97879696 0.6824 157.73456501960754\n",
      "7000 0.9728447 0.691 0.9740023 0.6861 188.15894436836243\n",
      "8000 0.9690816 0.694275 0.9702438 0.6888 219.48974514007568\n",
      "9000 0.9660039 0.6967 0.967153 0.6922 250.92584085464478\n",
      "10000 0.96339166 0.6987 0.96453387 0.6954 282.02784395217896\n",
      "11000 0.961117 0.7006 0.9622772 0.6964 314.2528963088989\n",
      "12000 0.9590633 0.7022 0.9602563 0.698 346.16024470329285\n",
      "13000 0.9573027 0.703075 0.9585674 0.7004 378.1253855228424\n",
      "14000 0.95571285 0.7046 0.9570452 0.7019 411.07925605773926\n",
      "15000 0.95418906 0.706775 0.9556563 0.7035 442.9778628349304\n",
      "16000 0.95273405 0.707725 0.95427394 0.7045 472.7344973087311\n",
      "17000 0.95142037 0.709575 0.95307064 0.7055 503.95069694519043\n",
      "18000 0.9501459 0.7117 0.951857 0.7073 536.3612205982208\n",
      "19000 0.9489216 0.7123 0.95073915 0.7083 568.5978302955627\n",
      "20000 0.9477365 0.71345 0.94964594 0.7099 599.4213716983795\n",
      "training has terminated because: model took 20001 SGD steps\n"
     ]
    },
    {
     "data": {
      "text/plain": [
       "<classificationBinary.binaryCadreModel at 0x7f861470b400>"
      ]
     },
     "execution_count": 34,
     "metadata": {},
     "output_type": "execute_result"
    }
   ],
   "source": [
    "scm_best = binaryCadreModel(Tmax=20001, record=1000, eps=1e-4, lambda_W=0.001, lambda_d=0.001, M=6, gamma=1.)\n",
    "scm_best.fit(D_tr, 'target', features, features, D_va, progress=True)"
   ]
  },
  {
   "cell_type": "markdown",
   "metadata": {},
   "source": [
    "This is the accuracy of the original untuned model."
   ]
  },
  {
   "cell_type": "code",
   "execution_count": 36,
   "metadata": {},
   "outputs": [
    {
     "data": {
      "text/html": [
       "<div>\n",
       "<style scoped>\n",
       "    .dataframe tbody tr th:only-of-type {\n",
       "        vertical-align: middle;\n",
       "    }\n",
       "\n",
       "    .dataframe tbody tr th {\n",
       "        vertical-align: top;\n",
       "    }\n",
       "\n",
       "    .dataframe thead th {\n",
       "        text-align: right;\n",
       "    }\n",
       "</style>\n",
       "<table border=\"1\" class=\"dataframe\">\n",
       "  <thead>\n",
       "    <tr style=\"text-align: right;\">\n",
       "      <th></th>\n",
       "      <th>PR_AUC</th>\n",
       "      <th>ROC_AUC</th>\n",
       "      <th>accuracy</th>\n",
       "      <th>loss</th>\n",
       "    </tr>\n",
       "  </thead>\n",
       "  <tbody>\n",
       "    <tr>\n",
       "      <th>0</th>\n",
       "      <td>0.746555</td>\n",
       "      <td>0.743861</td>\n",
       "      <td>0.6762</td>\n",
       "      <td>0.693101</td>\n",
       "    </tr>\n",
       "  </tbody>\n",
       "</table>\n",
       "</div>"
      ],
      "text/plain": [
       "     PR_AUC   ROC_AUC  accuracy      loss\n",
       "0  0.746555  0.743861    0.6762  0.693101"
      ]
     },
     "execution_count": 36,
     "metadata": {},
     "output_type": "execute_result"
    }
   ],
   "source": [
    "scm.scoreMetrics(D_va)"
   ]
  },
  {
   "cell_type": "markdown",
   "metadata": {},
   "source": [
    "This is the accuracy of the tuned model."
   ]
  },
  {
   "cell_type": "code",
   "execution_count": 35,
   "metadata": {
    "scrolled": false
   },
   "outputs": [
    {
     "data": {
      "text/html": [
       "<div>\n",
       "<style scoped>\n",
       "    .dataframe tbody tr th:only-of-type {\n",
       "        vertical-align: middle;\n",
       "    }\n",
       "\n",
       "    .dataframe tbody tr th {\n",
       "        vertical-align: top;\n",
       "    }\n",
       "\n",
       "    .dataframe thead th {\n",
       "        text-align: right;\n",
       "    }\n",
       "</style>\n",
       "<table border=\"1\" class=\"dataframe\">\n",
       "  <thead>\n",
       "    <tr style=\"text-align: right;\">\n",
       "      <th></th>\n",
       "      <th>PR_AUC</th>\n",
       "      <th>ROC_AUC</th>\n",
       "      <th>accuracy</th>\n",
       "      <th>loss</th>\n",
       "    </tr>\n",
       "  </thead>\n",
       "  <tbody>\n",
       "    <tr>\n",
       "      <th>0</th>\n",
       "      <td>0.788421</td>\n",
       "      <td>0.787379</td>\n",
       "      <td>0.7102</td>\n",
       "      <td>0.657289</td>\n",
       "    </tr>\n",
       "  </tbody>\n",
       "</table>\n",
       "</div>"
      ],
      "text/plain": [
       "     PR_AUC   ROC_AUC  accuracy      loss\n",
       "0  0.788421  0.787379    0.7102  0.657289"
      ]
     },
     "execution_count": 35,
     "metadata": {},
     "output_type": "execute_result"
    }
   ],
   "source": [
    "scm_best.scoreMetrics(D_va)"
   ]
  },
  {
   "cell_type": "markdown",
   "metadata": {},
   "source": [
    "We see that, by utilizing proper hyperparameter tuning, we are able to increase our `PR_AUC` and `ROC_AUC` scores by about 5% and our accuracy by about 4%."
   ]
  },
  {
   "cell_type": "markdown",
   "metadata": {},
   "source": [
    "This function can be used to calculate subpopulation-specific metrics. It can be useful to notice if one subpopulation has particularly good or bad accuracy relative to the population."
   ]
  },
  {
   "cell_type": "code",
   "execution_count": 46,
   "metadata": {},
   "outputs": [],
   "source": [
    "from sklearn.metrics import roc_auc_score, average_precision_score"
   ]
  },
  {
   "cell_type": "code",
   "execution_count": 47,
   "metadata": {},
   "outputs": [],
   "source": [
    "def precision_metrics(data, model, data_name, M):\n",
    "    F, L, __, M, __ = model.predictFull(data)\n",
    "    temp = pd.DataFrame({'f': np.squeeze(F), 'm': np.squeeze(M), 'l': np.squeeze(L), 'y': data['target'].values})\n",
    "    scores = {'size': [], 'm': [], 'dataset': [], 'accuracy': [], 'ROC_AUC': [], 'PR_AUC': [], 'proportion': []}\n",
    "    for m in np.unique(M):\n",
    "        temp_m = temp.loc[temp['m']==m,:]\n",
    "        if temp_m.shape[0] < 5: continue\n",
    "        scores['size'].append(temp_m.shape[0])\n",
    "        scores['m'].append(m)\n",
    "        scores['dataset'].append(data_name)\n",
    "        scores['proportion'].append(temp_m['y'].mean())\n",
    "        scores['accuracy'].append(np.mean(temp_m['l'] == temp_m['y']))\n",
    "        scores['ROC_AUC'].append(roc_auc_score(temp_m['y'], temp_m['f']))\n",
    "        scores['PR_AUC'].append(average_precision_score(temp_m['y'], temp_m['f']))\n",
    "    return pd.DataFrame(scores)[['dataset', 'm', 'size', 'proportion', 'accuracy', 'ROC_AUC', 'PR_AUC']]"
   ]
  },
  {
   "cell_type": "code",
   "execution_count": 48,
   "metadata": {},
   "outputs": [
    {
     "data": {
      "text/html": [
       "<div>\n",
       "<style scoped>\n",
       "    .dataframe tbody tr th:only-of-type {\n",
       "        vertical-align: middle;\n",
       "    }\n",
       "\n",
       "    .dataframe tbody tr th {\n",
       "        vertical-align: top;\n",
       "    }\n",
       "\n",
       "    .dataframe thead th {\n",
       "        text-align: right;\n",
       "    }\n",
       "</style>\n",
       "<table border=\"1\" class=\"dataframe\">\n",
       "  <thead>\n",
       "    <tr style=\"text-align: right;\">\n",
       "      <th></th>\n",
       "      <th>dataset</th>\n",
       "      <th>m</th>\n",
       "      <th>size</th>\n",
       "      <th>proportion</th>\n",
       "      <th>accuracy</th>\n",
       "      <th>ROC_AUC</th>\n",
       "      <th>PR_AUC</th>\n",
       "    </tr>\n",
       "  </thead>\n",
       "  <tbody>\n",
       "    <tr>\n",
       "      <th>0</th>\n",
       "      <td>synthetic</td>\n",
       "      <td>0</td>\n",
       "      <td>1404</td>\n",
       "      <td>0.505698</td>\n",
       "      <td>0.724359</td>\n",
       "      <td>0.793205</td>\n",
       "      <td>0.796738</td>\n",
       "    </tr>\n",
       "    <tr>\n",
       "      <th>1</th>\n",
       "      <td>synthetic</td>\n",
       "      <td>1</td>\n",
       "      <td>1666</td>\n",
       "      <td>0.597239</td>\n",
       "      <td>0.717287</td>\n",
       "      <td>0.779810</td>\n",
       "      <td>0.837128</td>\n",
       "    </tr>\n",
       "    <tr>\n",
       "      <th>2</th>\n",
       "      <td>synthetic</td>\n",
       "      <td>2</td>\n",
       "      <td>2516</td>\n",
       "      <td>0.411367</td>\n",
       "      <td>0.717011</td>\n",
       "      <td>0.791501</td>\n",
       "      <td>0.717528</td>\n",
       "    </tr>\n",
       "    <tr>\n",
       "      <th>3</th>\n",
       "      <td>synthetic</td>\n",
       "      <td>3</td>\n",
       "      <td>1414</td>\n",
       "      <td>0.389675</td>\n",
       "      <td>0.673267</td>\n",
       "      <td>0.731547</td>\n",
       "      <td>0.615325</td>\n",
       "    </tr>\n",
       "    <tr>\n",
       "      <th>4</th>\n",
       "      <td>synthetic</td>\n",
       "      <td>4</td>\n",
       "      <td>1492</td>\n",
       "      <td>0.615282</td>\n",
       "      <td>0.715818</td>\n",
       "      <td>0.789958</td>\n",
       "      <td>0.857002</td>\n",
       "    </tr>\n",
       "    <tr>\n",
       "      <th>5</th>\n",
       "      <td>synthetic</td>\n",
       "      <td>5</td>\n",
       "      <td>1508</td>\n",
       "      <td>0.548408</td>\n",
       "      <td>0.706897</td>\n",
       "      <td>0.780402</td>\n",
       "      <td>0.806799</td>\n",
       "    </tr>\n",
       "  </tbody>\n",
       "</table>\n",
       "</div>"
      ],
      "text/plain": [
       "     dataset  m  size  proportion  accuracy   ROC_AUC    PR_AUC\n",
       "0  synthetic  0  1404    0.505698  0.724359  0.793205  0.796738\n",
       "1  synthetic  1  1666    0.597239  0.717287  0.779810  0.837128\n",
       "2  synthetic  2  2516    0.411367  0.717011  0.791501  0.717528\n",
       "3  synthetic  3  1414    0.389675  0.673267  0.731547  0.615325\n",
       "4  synthetic  4  1492    0.615282  0.715818  0.789958  0.857002\n",
       "5  synthetic  5  1508    0.548408  0.706897  0.780402  0.806799"
      ]
     },
     "execution_count": 48,
     "metadata": {},
     "output_type": "execute_result"
    }
   ],
   "source": [
    "precision_metrics(D_va, scm_best, 'synthetic', 6)"
   ]
  },
  {
   "cell_type": "markdown",
   "metadata": {},
   "source": [
    "In this case, we see that cadre 4 has the best `PR_AUC`, and cadre 0 has the best `ROC_AUC`. Cadre 3 has the worst `ROC_AUC` and `PR_AUC`."
   ]
  }
 ],
 "metadata": {
  "kernelspec": {
   "display_name": "Python [conda env:my_root]",
   "language": "python",
   "name": "conda-env-my_root-py"
  },
  "language_info": {
   "codemirror_mode": {
    "name": "ipython",
    "version": 3
   },
   "file_extension": ".py",
   "mimetype": "text/x-python",
   "name": "python",
   "nbconvert_exporter": "python",
   "pygments_lexer": "ipython3",
   "version": "3.6.8"
  }
 },
 "nbformat": 4,
 "nbformat_minor": 2
}
